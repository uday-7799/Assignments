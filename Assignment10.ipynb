{
 "cells": [
  {
   "cell_type": "markdown",
   "id": "934f480f",
   "metadata": {},
   "source": [
    "### 1. What is the role of try and exception block?"
   ]
  },
  {
   "cell_type": "markdown",
   "id": "bb3b9152",
   "metadata": {},
   "source": [
    "The try-except block is used in Python to handle and manage exceptions that may occur during the execution of a program. The try block contains the code that might raise an exception, while the except block specifies the actions to be taken if a specific exception is raised, allowing for graceful error handling and preventing program termination."
   ]
  },
  {
   "cell_type": "markdown",
   "id": "4d44a544",
   "metadata": {},
   "source": [
    "### 2. What is the syntax for a basic try-except block?"
   ]
  },
  {
   "cell_type": "code",
   "execution_count": 3,
   "id": "0501ad42",
   "metadata": {},
   "outputs": [],
   "source": [
    "try:\n",
    "    # Code that might raise an exception\n",
    "    # ...\n",
    "except ExceptionType:\n",
    "    # Code to handle the specific exception\n",
    "    # ...\n"
   ]
  },
  {
   "cell_type": "markdown",
   "id": "b7153485",
   "metadata": {},
   "source": [
    "### 3. What happens if an exception occurs inside a try block and there is no matching except block?"
   ]
  },
  {
   "cell_type": "markdown",
   "id": "38b6c98c",
   "metadata": {},
   "source": [
    "If an exception occurs inside a try block and there is no matching except block to handle that specific exception, the exception will propagate up the call stack until it is caught by an appropriate except block or until it reaches the top-level of the program. If the exception is not caught anywhere, it will result in an unhandled exception error, which typically includes a traceback showing the sequence of calls that led to the exception. This error can terminate the program's execution and display an error message to the user."
   ]
  },
  {
   "cell_type": "markdown",
   "id": "535e130f",
   "metadata": {},
   "source": [
    "### 4. What is the difference between using a bare except block and specifying a specific exception type?\n"
   ]
  },
  {
   "cell_type": "markdown",
   "id": "a24d21e8",
   "metadata": {},
   "source": [
    "Using a bare except block catches all types of exceptions, including system-exiting exceptions, which can lead to unexpected behavior, while specifying a specific exception type allows for targeted exception handling and better control over the program's behavior in response to specific errors."
   ]
  },
  {
   "cell_type": "markdown",
   "id": "74a879fc",
   "metadata": {},
   "source": [
    "### 5. Can you have nested try-except blocks in Python? If yes, then give an example."
   ]
  },
  {
   "cell_type": "markdown",
   "id": "a6f14cff",
   "metadata": {},
   "source": [
    "Yes, nested try-except blocks are allowed in Python"
   ]
  },
  {
   "cell_type": "code",
   "execution_count": 6,
   "id": "f03d4d55",
   "metadata": {},
   "outputs": [
    {
     "name": "stdout",
     "output_type": "stream",
     "text": [
      "Enter an outer value: 23\n",
      "Enter an inner value: w\n",
      "Invalid inner value. Please enter an integer.\n"
     ]
    }
   ],
   "source": [
    "try:\n",
    "    # Outer try block\n",
    "    outer_value = int(input(\"Enter an outer value: \"))\n",
    "    try:\n",
    "        # Inner try block\n",
    "        inner_value = int(input(\"Enter an inner value: \"))\n",
    "        result = outer_value / inner_value\n",
    "        print(\"Result:\", result)\n",
    "    except ZeroDivisionError:\n",
    "        print(\"Cannot divide by zero.\")\n",
    "    except ValueError:\n",
    "        print(\"Invalid inner value. Please enter an integer.\")\n",
    "except ValueError:\n",
    "    print(\"Invalid outer value. Please enter an integer.\")\n"
   ]
  },
  {
   "cell_type": "markdown",
   "id": "74df15b7",
   "metadata": {},
   "source": [
    "### 6. Can we use multiple exception blocks, if yes then give an example."
   ]
  },
  {
   "cell_type": "markdown",
   "id": "44eae5df",
   "metadata": {},
   "source": [
    "Yes, multiple exception blocks can be used in a try-except statement to handle different types of exceptions"
   ]
  },
  {
   "cell_type": "code",
   "execution_count": 10,
   "id": "d1691b69",
   "metadata": {},
   "outputs": [
    {
     "name": "stdout",
     "output_type": "stream",
     "text": [
      "Enter the numerator: 34\n",
      "Enter the denominator: 2.4\n",
      "Invalid input. Please enter a valid integer.\n"
     ]
    }
   ],
   "source": [
    "try:\n",
    "    num1 = int(input(\"Enter the numerator: \"))\n",
    "    num2 = int(input(\"Enter the denominator: \"))\n",
    "    result = num1 / num2\n",
    "    print(\"Result:\", result)\n",
    "except ValueError:\n",
    "    print(\"Invalid input. Please enter a valid integer.\")\n",
    "except ZeroDivisionError:\n",
    "    print(\"Cannot divide by zero.\")\n",
    "except Exception as e:\n",
    "    print(\"An error occurred:\", str(e))\n"
   ]
  },
  {
   "cell_type": "markdown",
   "id": "793d66d5",
   "metadata": {},
   "source": [
    "### 7. Write the reason due to which following errors are raised:"
   ]
  },
  {
   "cell_type": "markdown",
   "id": "f7ae971a",
   "metadata": {},
   "source": [
    "a. EOFError\n",
    "b. FloatingPointError\n",
    "c. IndexError\n",
    "d. MemoryError\n",
    "e. OverflowError\n",
    "f. TabError\n",
    "g. ValueError"
   ]
  },
  {
   "cell_type": "markdown",
   "id": "134c692b",
   "metadata": {},
   "source": [
    "EOFError is raised in Python when an input operation tries to read beyond the end of a file or when the input() function encounters the end of the input stream, typically caused by reaching the end of the file or the user signaling the end of input"
   ]
  },
  {
   "cell_type": "markdown",
   "id": "92c5bea2",
   "metadata": {},
   "source": [
    "The `FloatingPointError` is not a built-in exception in Python. However, floating-point related errors such as `ZeroDivisionError`, `OverflowError`, and `FloatingPointError` (from the `math` module) can be raised due to operations involving invalid or unsupported floating-point values, division by zero, or exceeding the limits of the floating-point representation."
   ]
  },
  {
   "cell_type": "markdown",
   "id": "0b0a486e",
   "metadata": {},
   "source": [
    "An IndexError is raised when trying to access a list or sequence with an invalid index, such as an index that is out of range or negative, indicating that the index is not present in the sequence."
   ]
  },
  {
   "cell_type": "markdown",
   "id": "75eb5737",
   "metadata": {},
   "source": [
    "MemoryError is raised when a program exhausts its available memory allocation, indicating that it cannot allocate additional memory to perform the requested operation or store data, leading to the error. This can occur when dealing with large data sets, infinite loops, or inefficient memory usage in the program."
   ]
  },
  {
   "cell_type": "markdown",
   "id": "67e44b2a",
   "metadata": {},
   "source": [
    "OverflowError is raised in Python when a numerical operation exceeds the maximum limit or capacity of a numeric type, resulting in an overflow condition. This can occur when performing calculations with extremely large numbers that go beyond the range supported by the numeric type being used."
   ]
  },
  {
   "cell_type": "markdown",
   "id": "f09820b4",
   "metadata": {},
   "source": [
    "A TabError is raised due to incorrect or inconsistent usage of tabs and spaces for indentation in Python code. It occurs when mixing tabs and spaces or when the indentation is not aligned properly, violating the Python syntax requirements."
   ]
  },
  {
   "cell_type": "markdown",
   "id": "f4430ef6",
   "metadata": {},
   "source": [
    "1. ValueError can be raised when trying to convert a string to an integer, but the string does not represent a valid integer.\n",
    "2. ValueError can also be raised when a function or operation expects a certain value within a valid range, but the provided value is outside that range."
   ]
  },
  {
   "cell_type": "markdown",
   "id": "92339970",
   "metadata": {},
   "source": [
    "### 8. Write code for the following given scenario and add try-exception block to it."
   ]
  },
  {
   "cell_type": "markdown",
   "id": "48ab94a6",
   "metadata": {},
   "source": [
    "a. Program to divide two numbers\n",
    "b. Program to convert a string to an integer\n",
    "c. Program to access an element in a list\n",
    "d. Program to handle a specific exception\n",
    "e. Program to handle any exception"
   ]
  },
  {
   "cell_type": "code",
   "execution_count": 12,
   "id": "f5bf30aa",
   "metadata": {},
   "outputs": [
    {
     "name": "stdout",
     "output_type": "stream",
     "text": [
      "Enter the numerator: 12\n",
      "Enter the denominator: 0\n",
      "Cannot divide by zero.\n"
     ]
    }
   ],
   "source": [
    "# Program to divide two numbers \n",
    "try:\n",
    "    numerator = float(input(\"Enter the numerator: \"))\n",
    "    denominator = float(input(\"Enter the denominator: \"))\n",
    "    result = numerator / denominator\n",
    "    print(\"Result:\", result)\n",
    "except ZeroDivisionError:\n",
    "    print(\"Cannot divide by zero.\")\n",
    "except ValueError:\n",
    "    print(\"Invalid input. Please enter valid numeric values.\")\n"
   ]
  },
  {
   "cell_type": "code",
   "execution_count": 17,
   "id": "4d9a460d",
   "metadata": {},
   "outputs": [
    {
     "name": "stdout",
     "output_type": "stream",
     "text": [
      "Enter a string: str\n",
      "Invalid input. The entered string is not a valid integer.\n"
     ]
    }
   ],
   "source": [
    "#Program to convert a string to an integer\n",
    "try:\n",
    "    string_input = input(\"Enter a string: \")\n",
    "    integer_value = int(string_input)\n",
    "    print(\"Integer value:\", integer_value)\n",
    "except ValueError:\n",
    "    print(\"Invalid input. The entered string is not a valid integer.\")\n"
   ]
  },
  {
   "cell_type": "code",
   "execution_count": 18,
   "id": "b07fbbad",
   "metadata": {},
   "outputs": [
    {
     "name": "stdout",
     "output_type": "stream",
     "text": [
      "Index out of range. Please provide a valid index.\n"
     ]
    }
   ],
   "source": [
    "#Program to access an element in a list\n",
    "my_list = [1, 2, 3, 4, 5]\n",
    "index = 6  # Index that is out of range\n",
    "\n",
    "try:\n",
    "    element = my_list[index]\n",
    "    print(\"Element found:\", element)\n",
    "except IndexError:\n",
    "    print(\"Index out of range. Please provide a valid index.\")\n"
   ]
  },
  {
   "cell_type": "code",
   "execution_count": 19,
   "id": "5232f594",
   "metadata": {},
   "outputs": [
    {
     "name": "stdout",
     "output_type": "stream",
     "text": [
      "Enter the numerator: 12\n",
      "Enter the denominator: 0\n",
      "Error: Cannot divide by zero.\n"
     ]
    }
   ],
   "source": [
    "#Program to handle a specific exception\n",
    "try:\n",
    "    numerator = int(input(\"Enter the numerator: \"))\n",
    "    denominator = int(input(\"Enter the denominator: \"))\n",
    "    result = numerator / denominator\n",
    "    print(\"Result:\", result)\n",
    "except ZeroDivisionError:\n",
    "    print(\"Error: Cannot divide by zero.\")\n"
   ]
  },
  {
   "cell_type": "code",
   "execution_count": 20,
   "id": "32998de0",
   "metadata": {},
   "outputs": [
    {
     "name": "stdout",
     "output_type": "stream",
     "text": [
      "Enter the numerator: 24\n",
      "Enter the denominator: e\n",
      "An error occurred: invalid literal for int() with base 10: 'e'\n"
     ]
    }
   ],
   "source": [
    "# Program to handle any exception\n",
    "try:\n",
    "    # Code that may raise exceptions\n",
    "    numerator = int(input(\"Enter the numerator: \"))\n",
    "    denominator = int(input(\"Enter the denominator: \"))\n",
    "    result = numerator / denominator\n",
    "    print(\"Result:\", result)\n",
    "except Exception as e:\n",
    "    print(\"An error occurred:\", str(e))\n"
   ]
  },
  {
   "cell_type": "code",
   "execution_count": null,
   "id": "e8e8c3a2",
   "metadata": {},
   "outputs": [],
   "source": []
  }
 ],
 "metadata": {
  "kernelspec": {
   "display_name": "Python 3 (ipykernel)",
   "language": "python",
   "name": "python3"
  },
  "language_info": {
   "codemirror_mode": {
    "name": "ipython",
    "version": 3
   },
   "file_extension": ".py",
   "mimetype": "text/x-python",
   "name": "python",
   "nbconvert_exporter": "python",
   "pygments_lexer": "ipython3",
   "version": "3.9.13"
  }
 },
 "nbformat": 4,
 "nbformat_minor": 5
}
