{
 "cells": [
  {
   "cell_type": "markdown",
   "id": "9fb1a3e4",
   "metadata": {},
   "source": [
    "### 1.What are the two values of the Boolean data type? How do you write them?"
   ]
  },
  {
   "cell_type": "markdown",
   "id": "c0533a02",
   "metadata": {},
   "source": [
    "The two values of boolean data type are 'True' and 'False'"
   ]
  },
  {
   "cell_type": "markdown",
   "id": "c6cbca9b",
   "metadata": {},
   "source": [
    "We write them as 'True' and 'False' as they are case sensitive"
   ]
  },
  {
   "cell_type": "code",
   "execution_count": null,
   "id": "bf6952a1",
   "metadata": {},
   "outputs": [],
   "source": []
  },
  {
   "cell_type": "markdown",
   "id": "e7ef59f4",
   "metadata": {},
   "source": [
    "### 2. What are the three different types of Boolean operators?"
   ]
  },
  {
   "cell_type": "markdown",
   "id": "a1eeac85",
   "metadata": {},
   "source": [
    "1.AND operator"
   ]
  },
  {
   "cell_type": "markdown",
   "id": "784069f1",
   "metadata": {},
   "source": [
    "2.OR operator "
   ]
  },
  {
   "cell_type": "markdown",
   "id": "5060758d",
   "metadata": {},
   "source": [
    "3.NOT operator "
   ]
  },
  {
   "cell_type": "code",
   "execution_count": null,
   "id": "279e6eaf",
   "metadata": {},
   "outputs": [],
   "source": []
  },
  {
   "cell_type": "markdown",
   "id": "c65a0033",
   "metadata": {},
   "source": [
    "### 3. Make a list of each Boolean operator&#39;s truth tables (i.e. every possible combination of Booleanvalues for the operator and what it evaluate )."
   ]
  },
  {
   "cell_type": "code",
   "execution_count": 5,
   "id": "da7b751b",
   "metadata": {},
   "outputs": [
    {
     "name": "stdout",
     "output_type": "stream",
     "text": [
      "True\n",
      "False\n",
      "False\n",
      "False\n"
     ]
    }
   ],
   "source": [
    "#AND operator\n",
    "\n",
    "a = True and True #True\n",
    "print(a)\n",
    "a = True and False #False\n",
    "print(a)\n",
    "a = False and True #False\n",
    "print(a)\n",
    "a = False and False #False\n",
    "print(a)"
   ]
  },
  {
   "cell_type": "code",
   "execution_count": 6,
   "id": "83eefe4e",
   "metadata": {},
   "outputs": [
    {
     "name": "stdout",
     "output_type": "stream",
     "text": [
      "True\n",
      "True\n",
      "True\n",
      "False\n"
     ]
    }
   ],
   "source": [
    "#OR operator\n",
    "\n",
    "a = True or True #True\n",
    "print(a)\n",
    "a = True or False #True\n",
    "print(a)\n",
    "a = False or True #True\n",
    "print(a)\n",
    "a = False or False #False\n",
    "print(a)"
   ]
  },
  {
   "cell_type": "code",
   "execution_count": 12,
   "id": "78bdb24f",
   "metadata": {},
   "outputs": [
    {
     "name": "stdout",
     "output_type": "stream",
     "text": [
      "False\n",
      "True\n"
     ]
    }
   ],
   "source": [
    "a = not True #False\n",
    "print(a)\n",
    "a = not False #True\n",
    "print(a)"
   ]
  },
  {
   "cell_type": "code",
   "execution_count": null,
   "id": "54f8ac44",
   "metadata": {},
   "outputs": [],
   "source": []
  },
  {
   "cell_type": "markdown",
   "id": "2fe54661",
   "metadata": {},
   "source": [
    "### 4. What are the values of the following expressions?"
   ]
  },
  {
   "cell_type": "code",
   "execution_count": 13,
   "id": "b14de61c",
   "metadata": {},
   "outputs": [
    {
     "name": "stdout",
     "output_type": "stream",
     "text": [
      "False\n"
     ]
    }
   ],
   "source": [
    "a = (5 > 4) and (3 == 5)\n",
    "print(a)"
   ]
  },
  {
   "cell_type": "code",
   "execution_count": 14,
   "id": "620a70c5",
   "metadata": {},
   "outputs": [
    {
     "name": "stdout",
     "output_type": "stream",
     "text": [
      "False\n"
     ]
    }
   ],
   "source": [
    "a = not (5 > 4)\n",
    "print(a)"
   ]
  },
  {
   "cell_type": "code",
   "execution_count": 15,
   "id": "b56b7c82",
   "metadata": {},
   "outputs": [
    {
     "name": "stdout",
     "output_type": "stream",
     "text": [
      "True\n"
     ]
    }
   ],
   "source": [
    "a = (5 > 4) or (3 == 5)\n",
    "print(a)"
   ]
  },
  {
   "cell_type": "code",
   "execution_count": 16,
   "id": "b7304b14",
   "metadata": {},
   "outputs": [
    {
     "name": "stdout",
     "output_type": "stream",
     "text": [
      "False\n"
     ]
    }
   ],
   "source": [
    "a = not ((5 > 4) or (3 == 5))\n",
    "print(a)"
   ]
  },
  {
   "cell_type": "code",
   "execution_count": 18,
   "id": "d91d17e2",
   "metadata": {},
   "outputs": [
    {
     "name": "stdout",
     "output_type": "stream",
     "text": [
      "False\n"
     ]
    }
   ],
   "source": [
    "a = (True and True) and (True == False)\n",
    "print(a)"
   ]
  },
  {
   "cell_type": "code",
   "execution_count": 19,
   "id": "ec8ec892",
   "metadata": {},
   "outputs": [
    {
     "name": "stdout",
     "output_type": "stream",
     "text": [
      "True\n"
     ]
    }
   ],
   "source": [
    "a = (not False) or (not True)\n",
    "print(a)"
   ]
  },
  {
   "cell_type": "code",
   "execution_count": null,
   "id": "c6cf048e",
   "metadata": {},
   "outputs": [],
   "source": []
  },
  {
   "cell_type": "markdown",
   "id": "559f9ab7",
   "metadata": {},
   "source": [
    "### 5. What are the six comparison operators?"
   ]
  },
  {
   "cell_type": "markdown",
   "id": "e1c88210",
   "metadata": {},
   "source": [
    "1.equal to (==)"
   ]
  },
  {
   "cell_type": "markdown",
   "id": "e2b3c7c6",
   "metadata": {},
   "source": [
    "2.not equal to (!=)"
   ]
  },
  {
   "cell_type": "markdown",
   "id": "4bd194ed",
   "metadata": {},
   "source": [
    "3.greater than (>)"
   ]
  },
  {
   "cell_type": "markdown",
   "id": "9b02b9b4",
   "metadata": {},
   "source": [
    "4.less than (<)"
   ]
  },
  {
   "cell_type": "markdown",
   "id": "91311c04",
   "metadata": {},
   "source": [
    "5.greater than or equal to (>=)"
   ]
  },
  {
   "cell_type": "markdown",
   "id": "4cbaa74b",
   "metadata": {},
   "source": [
    "6.less than or equal to (<=)"
   ]
  },
  {
   "cell_type": "code",
   "execution_count": null,
   "id": "ce05c761",
   "metadata": {},
   "outputs": [],
   "source": []
  },
  {
   "cell_type": "markdown",
   "id": "af480fec",
   "metadata": {},
   "source": [
    "### 6. How do you tell the difference between the equal to and assignment operators?Describe acondition and when you would use one."
   ]
  },
  {
   "cell_type": "markdown",
   "id": "c474de69",
   "metadata": {},
   "source": [
    "We use single '=' in assignment operator and in equal to operator we use double '==' symbol"
   ]
  },
  {
   "cell_type": "code",
   "execution_count": 20,
   "id": "34f10262",
   "metadata": {},
   "outputs": [],
   "source": [
    "# we use assignment operator while assigning a value to the variable\n",
    "a = 10\n",
    "#we use equal to operator for checking a condition\n",
    "a = (5 == 4)"
   ]
  },
  {
   "cell_type": "code",
   "execution_count": null,
   "id": "a088fd44",
   "metadata": {},
   "outputs": [],
   "source": []
  },
  {
   "cell_type": "markdown",
   "id": "9c65b935",
   "metadata": {},
   "source": [
    "### 7. Identify the three blocks in this code:"
   ]
  },
  {
   "cell_type": "code",
   "execution_count": 21,
   "id": "f0f3511f",
   "metadata": {},
   "outputs": [
    {
     "name": "stdout",
     "output_type": "stream",
     "text": [
      "ham\n",
      "spam\n",
      "spam\n"
     ]
    }
   ],
   "source": [
    "spam = 0\n",
    "if spam == 10:\n",
    "    print('eggs')\n",
    "if spam > 5:\n",
    "    print('bacon')\n",
    "else:\n",
    "    print('ham')\n",
    "    print('spam')\n",
    "    print('spam')"
   ]
  },
  {
   "cell_type": "code",
   "execution_count": null,
   "id": "cad68f1d",
   "metadata": {},
   "outputs": [],
   "source": []
  },
  {
   "cell_type": "markdown",
   "id": "e9b05521",
   "metadata": {},
   "source": [
    "### 8. Write code that prints Hello if 1 is stored in spam, prints Howdy if 2 is stored in spam, and prints Greetings! if anything else is stored in spam."
   ]
  },
  {
   "cell_type": "code",
   "execution_count": 22,
   "id": "c059728c",
   "metadata": {},
   "outputs": [
    {
     "name": "stdout",
     "output_type": "stream",
     "text": [
      "Greetings!\n"
     ]
    }
   ],
   "source": [
    "if spam == 1:\n",
    "    print('Hello')\n",
    "if spam == 2:\n",
    "    print('Howdy')\n",
    "else:\n",
    "    print('Greetings!')"
   ]
  },
  {
   "cell_type": "code",
   "execution_count": null,
   "id": "e63fa9b5",
   "metadata": {},
   "outputs": [],
   "source": []
  },
  {
   "cell_type": "markdown",
   "id": "aaf47bbe",
   "metadata": {},
   "source": [
    "### 9.If your programme is stuck in an endless loop, what keys you’ll press? "
   ]
  },
  {
   "cell_type": "markdown",
   "id": "37e049ed",
   "metadata": {},
   "source": [
    "In jupyter notebook if the program stuck in endless loop we use 'interrupt the kernel' option to stop the loop."
   ]
  },
  {
   "cell_type": "code",
   "execution_count": null,
   "id": "dcdd80f2",
   "metadata": {},
   "outputs": [],
   "source": []
  },
  {
   "cell_type": "markdown",
   "id": "40597a8d",
   "metadata": {},
   "source": [
    "### 10. How can you tell the difference between break and continue?"
   ]
  },
  {
   "cell_type": "markdown",
   "id": "a6be9447",
   "metadata": {},
   "source": [
    "The 'break' statement is used to terminate the current loop entirely"
   ]
  },
  {
   "cell_type": "code",
   "execution_count": 23,
   "id": "b0899838",
   "metadata": {},
   "outputs": [
    {
     "name": "stdout",
     "output_type": "stream",
     "text": [
      "0\n",
      "1\n",
      "2\n"
     ]
    }
   ],
   "source": [
    "for i in range(5):\n",
    "    if i == 3:\n",
    "        break\n",
    "    print(i)"
   ]
  },
  {
   "cell_type": "markdown",
   "id": "16f37a7a",
   "metadata": {},
   "source": [
    "The 'continue' statement is used to skip the current iteration of a loop and move to the next iteration"
   ]
  },
  {
   "cell_type": "code",
   "execution_count": 24,
   "id": "f8c55211",
   "metadata": {},
   "outputs": [
    {
     "name": "stdout",
     "output_type": "stream",
     "text": [
      "0\n",
      "1\n",
      "3\n",
      "4\n"
     ]
    }
   ],
   "source": [
    "for i in range(5):\n",
    "    if i == 2:\n",
    "        continue\n",
    "    print(i)\n"
   ]
  },
  {
   "cell_type": "code",
   "execution_count": null,
   "id": "2cd3a9b9",
   "metadata": {},
   "outputs": [],
   "source": []
  },
  {
   "cell_type": "markdown",
   "id": "cc8d03c7",
   "metadata": {},
   "source": [
    "### 11. In a for loop, what is the difference between range(10), range(0, 10), and range(0, 10, 1)?"
   ]
  },
  {
   "cell_type": "markdown",
   "id": "e4e6b371",
   "metadata": {},
   "source": [
    "range(0) , range(0,10) and range(0,10,1) are all same in for loop which prints values from o to 9"
   ]
  },
  {
   "cell_type": "code",
   "execution_count": 36,
   "id": "9115352b",
   "metadata": {},
   "outputs": [
    {
     "name": "stdout",
     "output_type": "stream",
     "text": [
      "0123456789\n",
      "0123456789\n",
      "0123456789"
     ]
    }
   ],
   "source": [
    "#proof\n",
    "for i in range(10):\n",
    "    print(i,end='')\n",
    "print()\n",
    "for i in range(0,10):\n",
    "    print(i,end='')\n",
    "print()\n",
    "for i in range(0,10,1):\n",
    "    print(i,end='')"
   ]
  },
  {
   "cell_type": "code",
   "execution_count": null,
   "id": "5222ca4c",
   "metadata": {},
   "outputs": [],
   "source": []
  },
  {
   "cell_type": "markdown",
   "id": "cbdf2bef",
   "metadata": {},
   "source": [
    "### 12. Write a short program that prints the numbers 1 to 10 using a for loop. Then write an equivalentprogram that prints the numbers 1 to 10 using a while loop."
   ]
  },
  {
   "cell_type": "code",
   "execution_count": null,
   "id": "3bc3d6f0",
   "metadata": {},
   "outputs": [],
   "source": [
    "#using for loop\n",
    "for i in range(1,11):\n",
    "    print(i)"
   ]
  },
  {
   "cell_type": "code",
   "execution_count": 1,
   "id": "a34fc664",
   "metadata": {},
   "outputs": [
    {
     "name": "stdout",
     "output_type": "stream",
     "text": [
      "1\n",
      "2\n",
      "3\n",
      "4\n",
      "5\n",
      "6\n",
      "7\n",
      "8\n",
      "9\n",
      "10\n"
     ]
    }
   ],
   "source": [
    "#using while loop\n",
    "i = 1\n",
    "while i < 11:\n",
    "    print(i)\n",
    "    i += 1\n",
    "    "
   ]
  },
  {
   "cell_type": "code",
   "execution_count": null,
   "id": "1fe51bd6",
   "metadata": {},
   "outputs": [],
   "source": []
  },
  {
   "cell_type": "markdown",
   "id": "1be355c6",
   "metadata": {},
   "source": [
    "### 13. If you had a function named bacon() inside a module named spam, how would you call it after importing spam?"
   ]
  },
  {
   "cell_type": "markdown",
   "id": "a10ce7ea",
   "metadata": {},
   "source": [
    "import spam"
   ]
  },
  {
   "cell_type": "markdown",
   "id": "17dbe2b0",
   "metadata": {},
   "source": [
    "spam.bacon()"
   ]
  },
  {
   "cell_type": "code",
   "execution_count": null,
   "id": "7f04db13",
   "metadata": {},
   "outputs": [],
   "source": []
  }
 ],
 "metadata": {
  "kernelspec": {
   "display_name": "Python 3 (ipykernel)",
   "language": "python",
   "name": "python3"
  },
  "language_info": {
   "codemirror_mode": {
    "name": "ipython",
    "version": 3
   },
   "file_extension": ".py",
   "mimetype": "text/x-python",
   "name": "python",
   "nbconvert_exporter": "python",
   "pygments_lexer": "ipython3",
   "version": "3.9.13"
  }
 },
 "nbformat": 4,
 "nbformat_minor": 5
}
