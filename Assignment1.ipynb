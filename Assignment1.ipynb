{
 "cells": [
  {
   "cell_type": "markdown",
   "id": "70aad640",
   "metadata": {},
   "source": [
    "### 1. In the below elements which of them are values or an expression? eg:- values can beinteger or string and expressions will be mathematical operators."
   ]
  },
  {
   "cell_type": "markdown",
   "id": "bb6f28f7",
   "metadata": {},
   "source": [
    "\n",
    "values are 'hello', -87.8 , 6\n",
    "\n",
    "expressions are * , - , / , +"
   ]
  },
  {
   "cell_type": "code",
   "execution_count": null,
   "id": "bb5484f7",
   "metadata": {},
   "outputs": [],
   "source": []
  },
  {
   "cell_type": "markdown",
   "id": "047e6b32",
   "metadata": {},
   "source": [
    "### 2. What is the difference between string and variable?"
   ]
  },
  {
   "cell_type": "markdown",
   "id": "8780b7ab",
   "metadata": {},
   "source": [
    "STRING : A string is a data type, it is a sequence of characters enclosed in single quotes '' or double quotes \"\". Strings are immutable.\n",
    "example:\n",
    "         name = \"ramu\"\n",
    "\n",
    "\n",
    "VARIABLE : variable is container that stores various types of data, including strings, numbers, lists, etc.Variables can be reassigned.\n",
    "example:\n",
    "         a = 3"
   ]
  },
  {
   "cell_type": "code",
   "execution_count": null,
   "id": "88ec74b8",
   "metadata": {},
   "outputs": [],
   "source": []
  },
  {
   "cell_type": "markdown",
   "id": "59c45595",
   "metadata": {},
   "source": [
    "### 3. Describe three different data types."
   ]
  },
  {
   "cell_type": "markdown",
   "id": "cafc2c7a",
   "metadata": {},
   "source": [
    "INTEGER : the type of data stored is interger type\n"
   ]
  },
  {
   "cell_type": "code",
   "execution_count": 4,
   "id": "25828852",
   "metadata": {},
   "outputs": [],
   "source": [
    "#example\n",
    "a = 10 \n",
    "b = -22"
   ]
  },
  {
   "cell_type": "markdown",
   "id": "f6edf42f",
   "metadata": {},
   "source": [
    "FLOAT : the type of data stored is decimal type\n"
   ]
  },
  {
   "cell_type": "code",
   "execution_count": 5,
   "id": "b054661d",
   "metadata": {},
   "outputs": [],
   "source": [
    "#example\n",
    "a = 3.14\n",
    "p = 34.0"
   ]
  },
  {
   "cell_type": "markdown",
   "id": "14140936",
   "metadata": {},
   "source": [
    "STRING : A string is a data type, it is a sequence of characters enclosed in single quotes '' or double quotes \"\"\n"
   ]
  },
  {
   "cell_type": "code",
   "execution_count": 6,
   "id": "0523a9b8",
   "metadata": {},
   "outputs": [],
   "source": [
    "#example:\n",
    "verb = 'dance'\n",
    "game = \"cricket\""
   ]
  },
  {
   "cell_type": "code",
   "execution_count": null,
   "id": "c3ea5a70",
   "metadata": {},
   "outputs": [],
   "source": []
  },
  {
   "cell_type": "markdown",
   "id": "44f5e1d6",
   "metadata": {},
   "source": [
    "### 4. What is an expression made up of? What do all expressions do?"
   ]
  },
  {
   "cell_type": "markdown",
   "id": "c7f41475",
   "metadata": {},
   "source": [
    "---> An expression is a combination of values, variables, operators, and function calls that evaluates to a result. It can be as simple as a single value or as complex as a combination of multiple sub-expressions.\n"
   ]
  },
  {
   "cell_type": "markdown",
   "id": "35c7fbea",
   "metadata": {},
   "source": [
    "---> An expression performs various tasks such as Calculate values,Assign values,Evaluate conditions,Perform type conversions"
   ]
  },
  {
   "cell_type": "code",
   "execution_count": null,
   "id": "9da2e647",
   "metadata": {},
   "outputs": [],
   "source": []
  },
  {
   "cell_type": "markdown",
   "id": "6106668f",
   "metadata": {},
   "source": [
    "### 5. This assignment statements, like spam = 10. What is the difference between an expression and a statement?"
   ]
  },
  {
   "cell_type": "markdown",
   "id": "464ca626",
   "metadata": {},
   "source": [
    "EXPRESSION :  An expression is a combination of values, variables, operators, and function calls that evaluates to a result. It can be as simple as a single value or as complex as a combination of multiple sub-expressions."
   ]
  },
  {
   "cell_type": "markdown",
   "id": "0269e652",
   "metadata": {},
   "source": [
    "STATEMENT : An assignment statement assigns values to the variables."
   ]
  },
  {
   "cell_type": "code",
   "execution_count": null,
   "id": "7c99c4ed",
   "metadata": {},
   "outputs": [],
   "source": []
  },
  {
   "cell_type": "markdown",
   "id": "e6d843ed",
   "metadata": {},
   "source": [
    "### 6. After running the following code, what does the variable bacon contain?"
   ]
  },
  {
   "cell_type": "code",
   "execution_count": 3,
   "id": "1a3303ac",
   "metadata": {},
   "outputs": [
    {
     "data": {
      "text/plain": [
       "23"
      ]
     },
     "execution_count": 3,
     "metadata": {},
     "output_type": "execute_result"
    }
   ],
   "source": [
    "bacon = 22\n",
    "bacon + 1\n",
    "#output = 23"
   ]
  },
  {
   "cell_type": "code",
   "execution_count": null,
   "id": "00d165b8",
   "metadata": {},
   "outputs": [],
   "source": []
  },
  {
   "cell_type": "markdown",
   "id": "05fd77da",
   "metadata": {},
   "source": [
    "### 7. What should the values of the following two terms be?"
   ]
  },
  {
   "cell_type": "code",
   "execution_count": 5,
   "id": "ac226ad9",
   "metadata": {},
   "outputs": [
    {
     "data": {
      "text/plain": [
       "'spamspamspam'"
      ]
     },
     "execution_count": 5,
     "metadata": {},
     "output_type": "execute_result"
    }
   ],
   "source": [
    "'spam'+'spamspam'\n",
    "'spam'*3\n",
    "#output = spamspamspam"
   ]
  },
  {
   "cell_type": "code",
   "execution_count": null,
   "id": "2c7aa84c",
   "metadata": {},
   "outputs": [],
   "source": []
  },
  {
   "cell_type": "markdown",
   "id": "0743eccb",
   "metadata": {},
   "source": [
    "### 8. Why is eggs a valid variable name while 100 is invalid?"
   ]
  },
  {
   "cell_type": "markdown",
   "id": "04932650",
   "metadata": {},
   "source": [
    "--->'eggs' is valid variable because a variable can start with a character while '100' is an invalid variable because a variable should not start with a numerical"
   ]
  },
  {
   "cell_type": "code",
   "execution_count": null,
   "id": "6e8acd97",
   "metadata": {},
   "outputs": [],
   "source": []
  },
  {
   "cell_type": "markdown",
   "id": "09eb2c5c",
   "metadata": {},
   "source": [
    "### 9. What three functions can be used to get the integer, floating-point number, or stringversion of a value?"
   ]
  },
  {
   "cell_type": "markdown",
   "id": "f19bc57a",
   "metadata": {},
   "source": [
    "The three functions are\n"
   ]
  },
  {
   "cell_type": "markdown",
   "id": "167c4f93",
   "metadata": {},
   "source": [
    "int()"
   ]
  },
  {
   "cell_type": "code",
   "execution_count": 10,
   "id": "b247b0c4",
   "metadata": {},
   "outputs": [
    {
     "name": "stdout",
     "output_type": "stream",
     "text": [
      "3\n"
     ]
    }
   ],
   "source": [
    "#int\n",
    "a = int(3.14)\n",
    "print(a)"
   ]
  },
  {
   "cell_type": "markdown",
   "id": "97767659",
   "metadata": {},
   "source": [
    "float()"
   ]
  },
  {
   "cell_type": "code",
   "execution_count": 11,
   "id": "862ffc3b",
   "metadata": {},
   "outputs": [
    {
     "name": "stdout",
     "output_type": "stream",
     "text": [
      "12.0\n"
     ]
    }
   ],
   "source": [
    "#float\n",
    "b = float(12)\n",
    "print(b)"
   ]
  },
  {
   "cell_type": "markdown",
   "id": "07312b08",
   "metadata": {},
   "source": [
    "str()"
   ]
  },
  {
   "cell_type": "code",
   "execution_count": 12,
   "id": "7b4e9726",
   "metadata": {},
   "outputs": [
    {
     "name": "stdout",
     "output_type": "stream",
     "text": [
      "123\n"
     ]
    }
   ],
   "source": [
    "#str\n",
    "c = str(123)\n",
    "print(c)"
   ]
  },
  {
   "cell_type": "code",
   "execution_count": null,
   "id": "a7442e14",
   "metadata": {},
   "outputs": [],
   "source": []
  },
  {
   "cell_type": "markdown",
   "id": "8d13c819",
   "metadata": {},
   "source": [
    "### 10. Why does this expression cause an error? How can you fix it?\n"
   ]
  },
  {
   "cell_type": "markdown",
   "id": "9dad7476",
   "metadata": {},
   "source": [
    "'i have eaten' + 99 + 'burritos'"
   ]
  },
  {
   "cell_type": "code",
   "execution_count": 14,
   "id": "de301ddd",
   "metadata": {},
   "outputs": [
    {
     "data": {
      "text/plain": [
       "'i have eaten99burritos'"
      ]
     },
     "execution_count": 14,
     "metadata": {},
     "output_type": "execute_result"
    }
   ],
   "source": [
    "#'i have eaten'+99+'burritos'\n",
    "# we have to convert 99 into string\n",
    "'i have eaten'+str(99)+'burritos'"
   ]
  },
  {
   "cell_type": "code",
   "execution_count": null,
   "id": "78e06562",
   "metadata": {},
   "outputs": [],
   "source": []
  }
 ],
 "metadata": {
  "kernelspec": {
   "display_name": "Python 3 (ipykernel)",
   "language": "python",
   "name": "python3"
  },
  "language_info": {
   "codemirror_mode": {
    "name": "ipython",
    "version": 3
   },
   "file_extension": ".py",
   "mimetype": "text/x-python",
   "name": "python",
   "nbconvert_exporter": "python",
   "pygments_lexer": "ipython3",
   "version": "3.9.13"
  }
 },
 "nbformat": 4,
 "nbformat_minor": 5
}
