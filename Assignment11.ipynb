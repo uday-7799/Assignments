{
 "cells": [
  {
   "cell_type": "markdown",
   "id": "242edb39",
   "metadata": {},
   "source": [
    "### 1. What is the role of the 'else' block in a try-except statement? Provide an example scenario where it would be useful."
   ]
  },
  {
   "cell_type": "markdown",
   "id": "636743ce",
   "metadata": {},
   "source": [
    "In a try-except statement, the 'else' block is optional and is executed only if no exceptions are raised within the corresponding 'try' block. It allows you to specify a set of statements that should be executed when the 'try' block completes successfully without any exceptions."
   ]
  },
  {
   "cell_type": "markdown",
   "id": "702a3f4d",
   "metadata": {},
   "source": [
    "### 2. Can a try-except block be nested inside another try-except block? Explain with an example."
   ]
  },
  {
   "cell_type": "markdown",
   "id": "92f761fd",
   "metadata": {},
   "source": [
    "Yes, a try-except block can be nested inside another try-except block. This is known as nested exception handling. It allows for handling different levels of exceptions in a more granular manner. The inner try-except block can catch and handle exceptions specific to its scope, while the outer try-except block can catch and handle exceptions that are not handled by the inner block."
   ]
  },
  {
   "cell_type": "code",
   "execution_count": 21,
   "id": "6dbe1e5c",
   "metadata": {},
   "outputs": [
    {
     "name": "stdout",
     "output_type": "stream",
     "text": [
      "The division was successful.\n",
      "2.0\n",
      "Error: Invalid operand types!\n",
      "None\n",
      "Error: Cannot divide by zero!\n",
      "The division was successful.\n",
      "None\n"
     ]
    }
   ],
   "source": [
    "def divide_numbers(a, b):\n",
    "    try:\n",
    "        result = None\n",
    "        try:\n",
    "            result = a / b\n",
    "        except ZeroDivisionError:\n",
    "            print(\"Error: Cannot divide by zero!\")\n",
    "        \n",
    "    except TypeError:\n",
    "        print(\"Error: Invalid operand types!\")\n",
    "\n",
    "    else:\n",
    "        print(\"The division was successful.\")\n",
    "        return result\n",
    "    \n",
    "print(divide_numbers(4,2))\n",
    "print(divide_numbers(3,'e'))\n",
    "print(divide_numbers(3,0))\n"
   ]
  },
  {
   "cell_type": "markdown",
   "id": "a24ceed5",
   "metadata": {},
   "source": [
    "### 3. How can you create a custom exception class in Python? Provide an example that demonstrates its usage."
   ]
  },
  {
   "cell_type": "markdown",
   "id": "ecd3b8f0",
   "metadata": {},
   "source": [
    "In Python, you can create custom exception classes by defining a new class that inherits from the built-in Exception class or any of its subclasses. By creating a custom exception class, you can define your own specific exceptions that can be raised and caught in your code."
   ]
  },
  {
   "cell_type": "code",
   "execution_count": 23,
   "id": "cd5d76fa",
   "metadata": {},
   "outputs": [
    {
     "name": "stdout",
     "output_type": "stream",
     "text": [
      "CustomException occurred: Invalid input: must be an integer.\n"
     ]
    }
   ],
   "source": [
    "# Custom exception class\n",
    "class CustomException(Exception):\n",
    "    pass\n",
    "\n",
    "# Example function that raises the custom exception\n",
    "def validate_input(value):\n",
    "    if not isinstance(value, int):\n",
    "        raise CustomException(\"Invalid input: must be an integer.\")\n",
    "\n",
    "# Example usage\n",
    "try:\n",
    "    validate_input(\"not_an_integer\")\n",
    "except CustomException as e:\n",
    "    print(\"CustomException occurred:\", str(e))\n"
   ]
  },
  {
   "cell_type": "markdown",
   "id": "21cf6ff7",
   "metadata": {},
   "source": [
    "### 4. What are some common exceptions that are built-in to Python?"
   ]
  },
  {
   "cell_type": "markdown",
   "id": "48fd5385",
   "metadata": {},
   "source": [
    "1. `SyntaxError`: Raised when there is a syntax error in the code.\n",
    "2. `TypeError`: Raised when an operation or function is applied to an object of an inappropriate type.\n",
    "3. `NameError`: Raised when a local or global name is not found.\n",
    "4. `IndexError`: Raised when a sequence subscript is out of range.\n",
    "5. `KeyError`: Raised when a dictionary key is not found.\n",
    "6. `ValueError`: Raised when a function receives an argument of the correct type but an invalid value.\n",
    "7. `ZeroDivisionError`: Raised when division or modulo operation is performed with zero as the divisor.\n",
    "8. `FileNotFoundError`: Raised when a file or directory is requested but cannot be found.\n",
    "9. `IOError`: Raised when an I/O operation (such as reading or writing a file) fails.\n",
    "10. `ImportError`: Raised when an imported module or module attribute is not found.\n",
    "11. `AttributeError`: Raised when an attribute reference or assignment fails.\n",
    "12. `AssertionError`: Raised when an assert statement fails.\n",
    "13. `OverflowError`: Raised when the result of an arithmetic operation is too large to be expressed within the available range.\n",
    "14. `MemoryError`: Raised when an operation runs out of memory.\n",
    "15. `KeyboardInterrupt`: Raised when the user interrupts the execution by pressing Ctrl+C.\n"
   ]
  },
  {
   "cell_type": "markdown",
   "id": "3755ab85",
   "metadata": {},
   "source": [
    "### 5. What is logging in Python, and why is it important in software development?"
   ]
  },
  {
   "cell_type": "markdown",
   "id": "f0acebf4",
   "metadata": {},
   "source": [
    "Logging in Python is a module that allows developers to record and store information about events and messages occurring during the execution of a program. It is important in software development because it helps in troubleshooting, debugging, and monitoring applications. Logging provides a way to track the flow of the program, identify errors, and gather valuable information for analysis, improving the reliability and maintainability of the software."
   ]
  },
  {
   "cell_type": "markdown",
   "id": "824706c4",
   "metadata": {},
   "source": [
    "### 6. Explain the purpose of log levels in Python logging and provide examples of when each log level would be appropriate."
   ]
  },
  {
   "cell_type": "markdown",
   "id": "84f67df6",
   "metadata": {},
   "source": [
    "Log levels in Python logging provide a way to categorize and prioritize log messages based on their severity. Here's a brief explanation of common log levels and examples of when each level would be appropriate:\n",
    "\n",
    "1. DEBUG: Used for detailed debugging information. It is helpful when investigating issues during development or when trying to understand the internal workings of the program.\n",
    "\n",
    "2. INFO: Used to provide general information about the program's execution. It can be used to track the flow of the program and important milestones.\n",
    "\n",
    "3. WARNING: Used to indicate potential issues or situations that may cause problems in the future. For example, deprecated function usage or incorrect configuration.\n",
    "\n",
    "4. ERROR: Used to report errors that occur during the program's execution, but are not critical enough to stop the program. These errors should be investigated and fixed.\n",
    "\n",
    "5. CRITICAL: Used to indicate critical errors or exceptional conditions that may lead to the termination of the program. It signifies the most severe level of error.\n"
   ]
  },
  {
   "cell_type": "markdown",
   "id": "c9e57d84",
   "metadata": {},
   "source": [
    "### 7. What are log formatters in Python logging, and how can you customise the log message format using formatters?"
   ]
  },
  {
   "cell_type": "markdown",
   "id": "318a3b39",
   "metadata": {},
   "source": [
    "Log formatters in Python logging determine the structure and content of log messages. They allow customization of log message format by specifying placeholders for various attributes like timestamp, log level, message, etc. Formatters can be configured with a specific format string and attached to log handlers to control the output style of log messages, including date/time format and additional contextual information."
   ]
  },
  {
   "cell_type": "markdown",
   "id": "19087948",
   "metadata": {},
   "source": [
    "### 8. How can you set up logging to capture log messages from multiple modules or classes in a Python application?"
   ]
  },
  {
   "cell_type": "markdown",
   "id": "5445b210",
   "metadata": {},
   "source": [
    "To capture log messages from multiple modules or classes in a Python application:\n",
    "\n",
    "1. Import the logging module: `import logging`.\n",
    "2. Configure the root logger: `logging.basicConfig(level=logging.DEBUG)`.\n",
    "3. Add logging statements in various modules/classes using `logging.getLogger(__name__)`.\n",
    "4. Use appropriate log levels (e.g., `logger.debug()`, `logger.info()`) to generate log messages, which will be captured by the root logger."
   ]
  },
  {
   "cell_type": "markdown",
   "id": "58889c5a",
   "metadata": {},
   "source": [
    "### 9. What is the difference between the logging and print statements in Python? When should you use logging over print statements in a real-world application?"
   ]
  },
  {
   "cell_type": "markdown",
   "id": "0f04409f",
   "metadata": {},
   "source": [
    "PRINT STATEMENT: The print statement is a built-in Python function used for displaying output to the console or standard output. It is commonly used for debugging and quickly inspecting the values of variables or intermediate results. Print statements are typically used during development or testing stages and are not suitable for long-term production use."
   ]
  },
  {
   "cell_type": "code",
   "execution_count": 24,
   "id": "354146dd",
   "metadata": {},
   "outputs": [
    {
     "name": "stdout",
     "output_type": "stream",
     "text": [
      "The value of x is: 10\n"
     ]
    }
   ],
   "source": [
    "x = 10\n",
    "print(\"The value of x is:\", x)\n"
   ]
  },
  {
   "cell_type": "markdown",
   "id": "f85559cb",
   "metadata": {},
   "source": [
    "LOGGING : The logging module in Python provides a flexible and configurable way to record and display messages from a program. Logging is more powerful and versatile than print statements and is specifically designed for application-level logging. It allows you to control the verbosity, format, and destination of log messages."
   ]
  },
  {
   "cell_type": "code",
   "execution_count": 25,
   "id": "03197587",
   "metadata": {},
   "outputs": [],
   "source": [
    "import logging\n",
    "\n",
    "# Set up logging configuration\n",
    "logging.basicConfig(filename='app.log', level=logging.DEBUG)\n",
    "\n",
    "# Log a message\n",
    "logging.info('This is an informational message')\n"
   ]
  },
  {
   "cell_type": "markdown",
   "id": "deca4b66",
   "metadata": {},
   "source": [
    "Logging is preferred over print statements in a real-world application for several reasons:\n",
    "\n",
    "1. Logging allows for more flexibility and control, as it supports different levels of verbosity (debug, info, warning, error) and can be easily configured.\n",
    "2. Logging provides a centralized mechanism for collecting and analyzing application logs, making it easier to monitor and troubleshoot issues.\n",
    "3. Logging statements can be selectively enabled or disabled based on the application's environment or configuration.\n",
    "4. Logging frameworks often offer additional features like log rotation, log formatting, and integration with external monitoring tools."
   ]
  },
  {
   "cell_type": "markdown",
   "id": "288d1059",
   "metadata": {},
   "source": [
    "### 10. Write a Python program that logs a message to a file named \"app.log\" with the following requirements:"
   ]
  },
  {
   "cell_type": "markdown",
   "id": "60d036dc",
   "metadata": {},
   "source": [
    "● The log message should be \"Hello, World!\"\n",
    "● The log level should be set to \"INFO.\"\n",
    "● The log file should append new log entries without overwriting previous ones"
   ]
  },
  {
   "cell_type": "code",
   "execution_count": 28,
   "id": "3a2eb401",
   "metadata": {},
   "outputs": [],
   "source": [
    "#The log message should be \"Hello, World!\" \n",
    "import logging\n",
    "\n",
    "logging.basicConfig(filename='app.log', level=logging.INFO)\n",
    "\n",
    "logging.info('Hello, World!')\n"
   ]
  },
  {
   "cell_type": "code",
   "execution_count": 29,
   "id": "f6764081",
   "metadata": {},
   "outputs": [],
   "source": [
    "# The log level should be set to \"INFO.\" \n",
    "import logging\n",
    "\n",
    "# Set up logging configuration\n",
    "logging.basicConfig(filename='app.log', level=logging.INFO)\n",
    "\n",
    "# Log a message with the INFO level\n",
    "logging.info('This is an information message')\n",
    "\n",
    "# You can also log messages with different levels\n",
    "logging.debug('This is a debug message')\n",
    "logging.warning('This is a warning message')\n",
    "logging.error('This is an error message')\n"
   ]
  },
  {
   "cell_type": "code",
   "execution_count": 30,
   "id": "548d4709",
   "metadata": {},
   "outputs": [],
   "source": [
    "#The log file should append new log entries without overwriting previous ones\n",
    "import logging\n",
    "\n",
    "# Configure the logger\n",
    "logging.basicConfig(\n",
    "    filename=\"app.log\",\n",
    "    level=logging.INFO,\n",
    "    format=\"%(asctime)s - %(levelname)s - %(message)s\"\n",
    ")\n",
    "\n",
    "# Log a message\n",
    "logging.info(\"This is a log message.\")\n"
   ]
  },
  {
   "cell_type": "markdown",
   "id": "6c52476f",
   "metadata": {},
   "source": [
    "### 11. Create a Python program that logs an error message to the console and a file named \"errors.log\" if an exception occurs during the program's execution. The error message should include the exception type and a timestamp."
   ]
  },
  {
   "cell_type": "code",
   "execution_count": 3,
   "id": "931df0e7",
   "metadata": {},
   "outputs": [
    {
     "name": "stderr",
     "output_type": "stream",
     "text": [
      "2023-07-05 21:19:48,508 - ERROR - 2023-07-05 21:19:48 - Exception: ValueError - An error occurred!\n"
     ]
    }
   ],
   "source": [
    "import logging\n",
    "import datetime \n",
    "\n",
    "logging.basicConfig(\n",
    "    level=logging.ERROR,\n",
    "    format=\"%(asctime)s - %(levelname)s - %(message)s\",\n",
    "    handlers=[\n",
    "        logging.StreamHandler(),\n",
    "        logging.FileHandler(\"errors.log\", mode=\"a\")\n",
    "    ]\n",
    ")\n",
    "\n",
    "try:\n",
    "    raise ValueError(\"An error occurred!\")\n",
    "except Exception as e:\n",
    "    timestamp = datetime.datetime.now().strftime(\"%Y-%m-%d %H:%M:%S\")\n",
    "    logging.error(f\"{timestamp} - Exception: {type(e).__name__} - {e}\")\n"
   ]
  },
  {
   "cell_type": "code",
   "execution_count": null,
   "id": "b7652424",
   "metadata": {},
   "outputs": [],
   "source": []
  }
 ],
 "metadata": {
  "kernelspec": {
   "display_name": "Python 3 (ipykernel)",
   "language": "python",
   "name": "python3"
  },
  "language_info": {
   "codemirror_mode": {
    "name": "ipython",
    "version": 3
   },
   "file_extension": ".py",
   "mimetype": "text/x-python",
   "name": "python",
   "nbconvert_exporter": "python",
   "pygments_lexer": "ipython3",
   "version": "3.9.13"
  }
 },
 "nbformat": 4,
 "nbformat_minor": 5
}
