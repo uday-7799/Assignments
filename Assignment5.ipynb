{
 "cells": [
  {
   "cell_type": "markdown",
   "id": "92d9d5c4",
   "metadata": {},
   "source": [
    "### 1. What does an empty dictionary&#39;s code look like? "
   ]
  },
  {
   "cell_type": "code",
   "execution_count": 1,
   "id": "41cef644",
   "metadata": {},
   "outputs": [
    {
     "data": {
      "text/plain": [
       "dict"
      ]
     },
     "execution_count": 1,
     "metadata": {},
     "output_type": "execute_result"
    }
   ],
   "source": [
    "d = {}\n",
    "type(d)"
   ]
  },
  {
   "cell_type": "markdown",
   "id": "90c78f00",
   "metadata": {},
   "source": [
    " ### 2. What is the value of a dictionary value with the key &#39;foo&#39; and the value 42?"
   ]
  },
  {
   "cell_type": "markdown",
   "id": "15e9c980",
   "metadata": {},
   "source": [
    "The value of a dictionary value with the key 'foo' and value 42 is 42"
   ]
  },
  {
   "cell_type": "code",
   "execution_count": 4,
   "id": "96078706",
   "metadata": {},
   "outputs": [
    {
     "data": {
      "text/plain": [
       "42"
      ]
     },
     "execution_count": 4,
     "metadata": {},
     "output_type": "execute_result"
    }
   ],
   "source": [
    "d = {'foo':42}\n",
    "d['foo']"
   ]
  },
  {
   "cell_type": "markdown",
   "id": "d40368eb",
   "metadata": {},
   "source": [
    "### 3. What is the most significant distinction between a dictionary and a list?"
   ]
  },
  {
   "cell_type": "markdown",
   "id": "5e3d687e",
   "metadata": {},
   "source": [
    "A dictionary is an unordered collection of key-value pairs, where each key is unique and is used to access its corresponding value. On the other hand, a list is an ordered collection of elements that can be of any type, and they are accessed by their position or index in the list"
   ]
  },
  {
   "cell_type": "markdown",
   "id": "ba15694f",
   "metadata": {},
   "source": [
    "### 4. What happens if you try to access spam[&#39;foo&#39;] if spam is {&#39;bar&#39;: 100}?"
   ]
  },
  {
   "cell_type": "markdown",
   "id": "e531b02f",
   "metadata": {},
   "source": [
    "It trows and error because the dictionary does not contains the key 'foo'"
   ]
  },
  {
   "cell_type": "code",
   "execution_count": 6,
   "id": "7515f201",
   "metadata": {},
   "outputs": [
    {
     "ename": "KeyError",
     "evalue": "'foo'",
     "output_type": "error",
     "traceback": [
      "\u001b[1;31m---------------------------------------------------------------------------\u001b[0m",
      "\u001b[1;31mKeyError\u001b[0m                                  Traceback (most recent call last)",
      "\u001b[1;32m~\\AppData\\Local\\Temp\\ipykernel_17468\\4026577702.py\u001b[0m in \u001b[0;36m<module>\u001b[1;34m\u001b[0m\n\u001b[0;32m      1\u001b[0m \u001b[0mspam\u001b[0m \u001b[1;33m=\u001b[0m \u001b[1;33m{\u001b[0m\u001b[1;34m'bar'\u001b[0m\u001b[1;33m:\u001b[0m\u001b[1;36m100\u001b[0m\u001b[1;33m}\u001b[0m\u001b[1;33m\u001b[0m\u001b[1;33m\u001b[0m\u001b[0m\n\u001b[1;32m----> 2\u001b[1;33m \u001b[0mspam\u001b[0m\u001b[1;33m[\u001b[0m\u001b[1;34m'foo'\u001b[0m\u001b[1;33m]\u001b[0m\u001b[1;33m\u001b[0m\u001b[1;33m\u001b[0m\u001b[0m\n\u001b[0m",
      "\u001b[1;31mKeyError\u001b[0m: 'foo'"
     ]
    }
   ],
   "source": [
    "spam = {'bar':100}\n",
    "spam['foo']"
   ]
  },
  {
   "cell_type": "markdown",
   "id": "13967221",
   "metadata": {},
   "source": [
    "###  5. If a dictionary is stored in spam, what is the difference between the expressions 'cat' in spam and  'cat' in spam.keys()?"
   ]
  },
  {
   "cell_type": "markdown",
   "id": "f4dc3ad2",
   "metadata": {},
   "source": [
    "cat in spam and cat in spam.keys() both refers to the keys in the dictionary"
   ]
  },
  {
   "cell_type": "code",
   "execution_count": 11,
   "id": "2b649a01",
   "metadata": {},
   "outputs": [
    {
     "name": "stdout",
     "output_type": "stream",
     "text": [
      "a\n",
      "b\n",
      "c\n",
      "a\n",
      "b\n",
      "c\n"
     ]
    }
   ],
   "source": [
    "spam = {'a':1,'b':2,'c':3}\n",
    "for cat in spam:\n",
    "    print(cat)\n",
    "for cat in spam.keys():\n",
    "    print(cat)"
   ]
  },
  {
   "cell_type": "markdown",
   "id": "d664d776",
   "metadata": {},
   "source": [
    "### 6. If a dictionary is stored in spam, what is the difference between the expressions 'cat' in spam and 'cat' in spam.values()?"
   ]
  },
  {
   "cell_type": "markdown",
   "id": "7614f43e",
   "metadata": {},
   "source": [
    "--> cat in spam refers to the keys in the dictionary"
   ]
  },
  {
   "cell_type": "markdown",
   "id": "45479626",
   "metadata": {},
   "source": [
    "--> cat in spam.values() refers to the values in the dictionary"
   ]
  },
  {
   "cell_type": "code",
   "execution_count": 14,
   "id": "486379b8",
   "metadata": {},
   "outputs": [
    {
     "name": "stdout",
     "output_type": "stream",
     "text": [
      "a b c \n",
      "1 2 3 "
     ]
    }
   ],
   "source": [
    "for cat in spam:\n",
    "    print(cat,end=' ')\n",
    "print()\n",
    "for cat in spam.values():\n",
    "    print(cat,end=\" \")"
   ]
  },
  {
   "cell_type": "markdown",
   "id": "fb898209",
   "metadata": {},
   "source": [
    "### 7. What is a shortcut for the following code?"
   ]
  },
  {
   "cell_type": "markdown",
   "id": "debce14e",
   "metadata": {},
   "source": [
    "#### if 'color' not in spam:"
   ]
  },
  {
   "cell_type": "markdown",
   "id": "9038597c",
   "metadata": {},
   "source": [
    "#### spam['color'] = 'black'"
   ]
  },
  {
   "cell_type": "code",
   "execution_count": 17,
   "id": "3c3664aa",
   "metadata": {},
   "outputs": [],
   "source": [
    "spam['color'] = 'black' if 'color' not in spam else spam['color']\n"
   ]
  },
  {
   "cell_type": "code",
   "execution_count": 18,
   "id": "4ef82597",
   "metadata": {},
   "outputs": [
    {
     "data": {
      "text/plain": [
       "'black'"
      ]
     },
     "execution_count": 18,
     "metadata": {},
     "output_type": "execute_result"
    }
   ],
   "source": [
    "spam['color']"
   ]
  },
  {
   "cell_type": "markdown",
   "id": "5eff432e",
   "metadata": {},
   "source": [
    "### 8. How do you &quot;pretty print&quot; dictionary values using which module and function?"
   ]
  },
  {
   "cell_type": "code",
   "execution_count": 21,
   "id": "e4e70162",
   "metadata": {},
   "outputs": [
    {
     "name": "stdout",
     "output_type": "stream",
     "text": [
      "{'key1': 'value1', 'key2': 'value2', 'key3': 'value3'}\n"
     ]
    }
   ],
   "source": [
    "import pprint\n",
    "d = {'key1': 'value1', 'key2': 'value2', 'key3': 'value3'}\n",
    "pprint.pprint(d)"
   ]
  },
  {
   "cell_type": "code",
   "execution_count": null,
   "id": "07624b36",
   "metadata": {},
   "outputs": [],
   "source": []
  }
 ],
 "metadata": {
  "kernelspec": {
   "display_name": "Python 3 (ipykernel)",
   "language": "python",
   "name": "python3"
  },
  "language_info": {
   "codemirror_mode": {
    "name": "ipython",
    "version": 3
   },
   "file_extension": ".py",
   "mimetype": "text/x-python",
   "name": "python",
   "nbconvert_exporter": "python",
   "pygments_lexer": "ipython3",
   "version": "3.9.13"
  }
 },
 "nbformat": 4,
 "nbformat_minor": 5
}
