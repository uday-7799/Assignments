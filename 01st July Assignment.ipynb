{
 "cells": [
  {
   "cell_type": "markdown",
   "id": "48df2dd6",
   "metadata": {},
   "source": [
    "### 1. What is the primary goal of Object-Oriented Programming (OOP)?"
   ]
  },
  {
   "cell_type": "markdown",
   "id": "6470e823",
   "metadata": {},
   "source": [
    "The primary goal of Object-Oriented Programming (OOP) is to design modular and reusable code by organizing it into objects that encapsulate data and behavior, promoting concepts like encapsulation, inheritance, and polymorphism for efficient software development. OOP models real-world entities, enhancing code organization and maintenance."
   ]
  },
  {
   "cell_type": "markdown",
   "id": "c1b8652c",
   "metadata": {},
   "source": [
    "### 2.What is an object in Python?"
   ]
  },
  {
   "cell_type": "markdown",
   "id": "2941b8bb",
   "metadata": {},
   "source": [
    "In Python, an object is a fundamental concept representing an instance of a class. Objects are instances of user-defined or built-in classes and encapsulate data (attributes) and behavior (methods), following the principles of Object-Oriented Programming (OOP)"
   ]
  },
  {
   "cell_type": "markdown",
   "id": "0877fb84",
   "metadata": {},
   "source": [
    "### 3.What is a class in Python?"
   ]
  },
  {
   "cell_type": "markdown",
   "id": "50f6ed48",
   "metadata": {},
   "source": [
    "In Python, a class is a blueprint for creating objects. It defines a data structure that encapsulates attributes (variables) and methods (functions) that operate on those attributes. Objects are instances of a class, and classes support the principles of Object-Oriented Programming (OOP), such as encapsulation, inheritance, and polymorphism.\n",
    "\n",
    "\n",
    "\n",
    "\n",
    "\n"
   ]
  },
  {
   "cell_type": "markdown",
   "id": "712c05a6",
   "metadata": {},
   "source": [
    "### 4.What are attributes and methods in a class?"
   ]
  },
  {
   "cell_type": "markdown",
   "id": "eb9fcc19",
   "metadata": {},
   "source": [
    "#### Attributes:\n",
    "\n",
    "DEFINITION: Attributes are variables that store data within an object and the purpose is to represent the characteristics or properties of an object.\n",
    "Example:"
   ]
  },
  {
   "cell_type": "code",
   "execution_count": 1,
   "id": "27532848",
   "metadata": {},
   "outputs": [],
   "source": [
    "# example code\n",
    "class Car:\n",
    "    def __init__(self, make, model):\n",
    "        self.make = make  # Attribute\n",
    "        self.model = model  # Attribute\n"
   ]
  },
  {
   "cell_type": "markdown",
   "id": "5f4787a8",
   "metadata": {},
   "source": [
    "#### Methods:\n",
    "\n",
    "DEFINITION: Methods are functions defined within a class that operate on the object's data and the purpose is to represent the behaviors or actions associated with an object.\n"
   ]
  },
  {
   "cell_type": "code",
   "execution_count": 2,
   "id": "2891c18b",
   "metadata": {},
   "outputs": [],
   "source": [
    "# example code\n",
    "class Car:\n",
    "    def __init__(self, make, model):\n",
    "        self.make = make\n",
    "        self.model = model\n",
    "\n",
    "    def display_info(self):\n",
    "        print(f\"{self.make} {self.model}\")\n"
   ]
  },
  {
   "cell_type": "markdown",
   "id": "ebba055d",
   "metadata": {},
   "source": [
    "### 5 .What is the difference between class variables and instance variables in Python?"
   ]
  },
  {
   "cell_type": "markdown",
   "id": "d8df3d4e",
   "metadata": {},
   "source": [
    "#### Class Variables:\n",
    "\n",
    "1.Shared among all instances"
   ]
  },
  {
   "cell_type": "markdown",
   "id": "12c28c9a",
   "metadata": {},
   "source": [
    "2.Defined at the class level"
   ]
  },
  {
   "cell_type": "code",
   "execution_count": 3,
   "id": "4f87a894",
   "metadata": {},
   "outputs": [],
   "source": [
    "class Car:\n",
    "    total_cars = 0  # Class variable\n",
    "\n",
    "    def __init__(self, make, model):\n",
    "        self.make = make  # Instance variable\n",
    "        self.model = model  # Instance variable\n",
    "        Car.total_cars += 1  # Accessing class variable\n"
   ]
  },
  {
   "cell_type": "markdown",
   "id": "cfa83dff",
   "metadata": {},
   "source": [
    "#### Instance Variables:\n",
    "\n",
    "1.Specific to each instance"
   ]
  },
  {
   "cell_type": "markdown",
   "id": "002874c1",
   "metadata": {},
   "source": [
    "2.Defined within methods, often in the _ _init_ _ constructor."
   ]
  },
  {
   "cell_type": "code",
   "execution_count": 4,
   "id": "c9c743a2",
   "metadata": {},
   "outputs": [],
   "source": [
    "class Car:\n",
    "    def __init__(self, make, model):\n",
    "        self.make = make  # Instance variable\n",
    "        self.model = model  # Instance variable\n"
   ]
  },
  {
   "cell_type": "markdown",
   "id": "5ee19139",
   "metadata": {},
   "source": [
    "### 6.What is the purpose of the self parameter in Python class methods?"
   ]
  },
  {
   "cell_type": "markdown",
   "id": "35ffa263",
   "metadata": {},
   "source": [
    "In Python, the self parameter in class methods is a convention that represents the instance of the class. It allows methods to access and manipulate the instance's attributes and call other methods within the same class. The use of self distinguishes instance variables from local variables and helps maintain the state of individual instances in an object-oriented program."
   ]
  },
  {
   "cell_type": "markdown",
   "id": "285e1774",
   "metadata": {},
   "source": [
    "### 7.For a library management system, you have to design the \"Book\" class with OOP\n",
    "#### principles in mind. The “Book” class will have following attributes:\n"
   ]
  },
  {
   "cell_type": "markdown",
   "id": "51281a1f",
   "metadata": {},
   "source": [
    "a. title: Represents the title of the book.<br>\n",
    "b. author: Represents the author(s) of the book.<br>\n",
    "c. isbn: Represents the ISBN (International Standard Book Number) of the book.<br>\n",
    "d. publication_year: Represents the year of publication of the book.<br>\n",
    "e. available_copies: Represents the number of copies available for checkout.<br>"
   ]
  },
  {
   "cell_type": "markdown",
   "id": "508b4986",
   "metadata": {},
   "source": [
    "#### The class will also include the following methods:\n",
    "a. check_out(self): Decrements the available copies by one if there are copies\n",
    "available for checkout.<br>\n",
    "b. return_book(self): Increments the available copies by one when a book is\n",
    "returned.<br>\n",
    "c. display_book_info(self): Displays the information about the book, including its\n",
    "attributes and the number of available copies.<br>"
   ]
  },
  {
   "cell_type": "code",
   "execution_count": 6,
   "id": "edc4075b",
   "metadata": {},
   "outputs": [
    {
     "name": "stdout",
     "output_type": "stream",
     "text": [
      "Title: The Great Gatsby\n",
      "Author(s): F. Scott Fitzgerald\n",
      "ISBN: 978-3-16-148410-0\n",
      "Publication Year: 1925\n",
      "Available Copies: 3\n",
      "Book 'The Great Gatsby' checked out successfully.\n",
      "Book 'The Great Gatsby' returned successfully.\n",
      "Book 'The Great Gatsby' checked out successfully.\n",
      "Book 'The Great Gatsby' checked out successfully.\n",
      "Title: The Great Gatsby\n",
      "Author(s): F. Scott Fitzgerald\n",
      "ISBN: 978-3-16-148410-0\n",
      "Publication Year: 1925\n",
      "Available Copies: 1\n"
     ]
    }
   ],
   "source": [
    "class Book:\n",
    "    def __init__(self, title, author, isbn, publication_year, available_copies):\n",
    "        self.title = title\n",
    "        self.author = author\n",
    "        self.isbn = isbn\n",
    "        self.publication_year = publication_year\n",
    "        self.available_copies = available_copies\n",
    "\n",
    "    def check_out(self):\n",
    "        if self.available_copies > 0:\n",
    "            self.available_copies -= 1\n",
    "            print(f\"Book '{self.title}' checked out successfully.\")\n",
    "        else:\n",
    "            print(f\"Sorry, no copies of '{self.title}' are currently available for checkout.\")\n",
    "\n",
    "    def return_book(self):\n",
    "        self.available_copies += 1\n",
    "        print(f\"Book '{self.title}' returned successfully.\")\n",
    "\n",
    "    def display_book_info(self):\n",
    "        print(f\"Title: {self.title}\")\n",
    "        print(f\"Author(s): {self.author}\")\n",
    "        print(f\"ISBN: {self.isbn}\")\n",
    "        print(f\"Publication Year: {self.publication_year}\")\n",
    "        print(f\"Available Copies: {self.available_copies}\")\n",
    "\n",
    "\n",
    "# Example usage:\n",
    "book1 = Book(\"The Great Gatsby\", \"F. Scott Fitzgerald\", \"978-3-16-148410-0\", 1925, 3)\n",
    "\n",
    "book1.display_book_info()\n",
    "book1.check_out()\n",
    "book1.return_book()\n",
    "book1.check_out()\n",
    "book1.check_out()\n",
    "book1.display_book_info()\n"
   ]
  },
  {
   "cell_type": "markdown",
   "id": "babecb94",
   "metadata": {},
   "source": [
    "### 8.For a ticket booking system, you have to design the \"Ticket\" class with OOP principles in mind. The “Ticket” class should have the following attributes:<br>\n",
    "a. ticket_id: Represents the unique identifier for the ticket.<br>\n",
    "b. event_name: Represents the name of the event.<br>\n",
    "c. event_date: Represents the date of the event.<br>\n",
    "d. venue: Represents the venue of the event.<br>\n",
    "e. seat_number: Represents the seat number associated with the ticket.<br>\n",
    "f. price: Represents the price of the ticket.<br>\n",
    "g. is_reserved: Represents the reservation status of the ticket.<br>\n",
    "#### The class also includes the following methods:<br>\n",
    "a. reserve_ticket(self): Marks the ticket as reserved if it is not already reserved.<br>\n",
    "b. cancel_reservation(self): Cancels the reservation of the ticket if it is already\n",
    "reserved.<br>\n",
    "c. display_ticket_info(self): Displays the information about the ticket, including its\n",
    "attributes and reservation status.<br>"
   ]
  },
  {
   "cell_type": "code",
   "execution_count": 7,
   "id": "98a24e79",
   "metadata": {},
   "outputs": [
    {
     "name": "stdout",
     "output_type": "stream",
     "text": [
      "Ticket ID: 1\n",
      "Event Name: Concert\n",
      "Event Date: 2022-05-15\n",
      "Venue: City Hall\n",
      "Seat Number: A12\n",
      "Price: $50.0\n",
      "Reservation Status: Not Reserved\n",
      "Ticket 1 for 'Concert' is now reserved.\n",
      "Ticket ID: 1\n",
      "Event Name: Concert\n",
      "Event Date: 2022-05-15\n",
      "Venue: City Hall\n",
      "Seat Number: A12\n",
      "Price: $50.0\n",
      "Reservation Status: Reserved\n",
      "Ticket 1 is already reserved.\n",
      "Reservation for ticket 1 has been canceled.\n",
      "Ticket ID: 1\n",
      "Event Name: Concert\n",
      "Event Date: 2022-05-15\n",
      "Venue: City Hall\n",
      "Seat Number: A12\n",
      "Price: $50.0\n",
      "Reservation Status: Not Reserved\n"
     ]
    }
   ],
   "source": [
    "class Ticket:\n",
    "    def __init__(self, ticket_id, event_name, event_date, venue, seat_number, price):\n",
    "        self.ticket_id = ticket_id\n",
    "        self.event_name = event_name\n",
    "        self.event_date = event_date\n",
    "        self.venue = venue\n",
    "        self.seat_number = seat_number\n",
    "        self.price = price\n",
    "        self.is_reserved = False\n",
    "\n",
    "    def reserve_ticket(self):\n",
    "        if not self.is_reserved:\n",
    "            self.is_reserved = True\n",
    "            print(f\"Ticket {self.ticket_id} for '{self.event_name}' is now reserved.\")\n",
    "        else:\n",
    "            print(f\"Ticket {self.ticket_id} is already reserved.\")\n",
    "\n",
    "    def cancel_reservation(self):\n",
    "        if self.is_reserved:\n",
    "            self.is_reserved = False\n",
    "            print(f\"Reservation for ticket {self.ticket_id} has been canceled.\")\n",
    "        else:\n",
    "            print(f\"Ticket {self.ticket_id} is not currently reserved.\")\n",
    "\n",
    "    def display_ticket_info(self):\n",
    "        print(f\"Ticket ID: {self.ticket_id}\")\n",
    "        print(f\"Event Name: {self.event_name}\")\n",
    "        print(f\"Event Date: {self.event_date}\")\n",
    "        print(f\"Venue: {self.venue}\")\n",
    "        print(f\"Seat Number: {self.seat_number}\")\n",
    "        print(f\"Price: ${self.price}\")\n",
    "        print(f\"Reservation Status: {'Reserved' if self.is_reserved else 'Not Reserved'}\")\n",
    "\n",
    "\n",
    "# Example usage:\n",
    "ticket1 = Ticket(1, \"Concert\", \"2022-05-15\", \"City Hall\", \"A12\", 50.0)\n",
    "\n",
    "ticket1.display_ticket_info()\n",
    "ticket1.reserve_ticket()\n",
    "ticket1.display_ticket_info()\n",
    "ticket1.reserve_ticket()\n",
    "ticket1.cancel_reservation()\n",
    "ticket1.display_ticket_info()\n"
   ]
  },
  {
   "cell_type": "markdown",
   "id": "c1175f9b",
   "metadata": {},
   "source": [
    "### 9.You are creating a shopping cart for an e-commerce website. Using OOP to model the \"ShoppingCart\" functionality the class should contain following attributes and methods:<br>\n",
    "a. items: Represents the list of items in the shopping cart.<br>\n",
    "#### The class also includes the following methods:<br>\n",
    "\n",
    "a. add_item(self, item): Adds an item to the shopping cart by appending it to the\n",
    "list of items.<br>\n",
    "b. remove_item(self, item): Removes an item from the shopping cart if it exists in\n",
    "the list.<br>\n",
    "c. view_cart(self): Displays the items currently present in the shopping cart.<br>\n",
    "d. clear_cart(self): Clears all items from the shopping cart by reassigning an\n",
    "empty list to the items attribute."
   ]
  },
  {
   "cell_type": "code",
   "execution_count": 8,
   "id": "e79b5797",
   "metadata": {},
   "outputs": [
    {
     "name": "stdout",
     "output_type": "stream",
     "text": [
      "Item 'Laptop' added to the shopping cart.\n",
      "Item 'Headphones' added to the shopping cart.\n",
      "Items in the shopping cart:\n",
      "- Laptop\n",
      "- Headphones\n",
      "Item 'Laptop' removed from the shopping cart.\n",
      "Items in the shopping cart:\n",
      "- Headphones\n",
      "Shopping cart cleared.\n",
      "The shopping cart is empty.\n"
     ]
    }
   ],
   "source": [
    "class ShoppingCart:\n",
    "    def __init__(self):\n",
    "        self.items = []\n",
    "\n",
    "    def add_item(self, item):\n",
    "        self.items.append(item)\n",
    "        print(f\"Item '{item}' added to the shopping cart.\")\n",
    "\n",
    "    def remove_item(self, item):\n",
    "        if item in self.items:\n",
    "            self.items.remove(item)\n",
    "            print(f\"Item '{item}' removed from the shopping cart.\")\n",
    "        else:\n",
    "            print(f\"Item '{item}' not found in the shopping cart.\")\n",
    "\n",
    "    def view_cart(self):\n",
    "        if not self.items:\n",
    "            print(\"The shopping cart is empty.\")\n",
    "        else:\n",
    "            print(\"Items in the shopping cart:\")\n",
    "            for item in self.items:\n",
    "                print(f\"- {item}\")\n",
    "\n",
    "    def clear_cart(self):\n",
    "        self.items = []\n",
    "        print(\"Shopping cart cleared.\")\n",
    "\n",
    "# Example usage:\n",
    "cart = ShoppingCart()\n",
    "\n",
    "cart.add_item(\"Laptop\")\n",
    "cart.add_item(\"Headphones\")\n",
    "cart.view_cart()\n",
    "\n",
    "cart.remove_item(\"Laptop\")\n",
    "cart.view_cart()\n",
    "\n",
    "cart.clear_cart()\n",
    "cart.view_cart()\n"
   ]
  },
  {
   "cell_type": "markdown",
   "id": "73ccb195",
   "metadata": {},
   "source": [
    "### 10.Imagine a school management system. You have to design the \"Student\" class using OOP concepts.The “Student” class has the following attributes:<br>\n",
    "a. name: Represents the name of the student.<br>\n",
    "b. age: Represents the age of the student.<br>\n",
    "c. grade: Represents the grade or class of the student.<br>\n",
    "d. student_id: Represents the unique identifier for the student.<br>\n",
    "e. attendance: Represents the attendance record of the student.<br>\n",
    "#### The class should also include the following methods:<br>\n",
    "a. update_attendance(self, date, status): Updates the attendance record of the\n",
    "student for a given date with the provided status (e.g., present or absent).<br>\n",
    "b. get_attendance(self): Returns the attendance record of the student.<br>\n",
    "c. get_average_attendance(self): Calculates and returns the average\n",
    "attendance percentage of the student based on their attendance record."
   ]
  },
  {
   "cell_type": "code",
   "execution_count": 9,
   "id": "ec09ee6d",
   "metadata": {},
   "outputs": [
    {
     "name": "stdout",
     "output_type": "stream",
     "text": [
      "Attendance for Alice on 2022-01-10 updated: present\n",
      "Attendance for Alice on 2022-01-12 updated: absent\n",
      "Attendance for Alice on 2022-01-15 updated: present\n",
      "Attendance Record:\n",
      "{'2022-01-10': 'present', '2022-01-12': 'absent', '2022-01-15': 'present'}\n",
      "Average Attendance: 66.67%\n"
     ]
    }
   ],
   "source": [
    "class Student:\n",
    "    def __init__(self, name, age, grade, student_id):\n",
    "        self.name = name\n",
    "        self.age = age\n",
    "        self.grade = grade\n",
    "        self.student_id = student_id\n",
    "        self.attendance = {}\n",
    "\n",
    "    def update_attendance(self, date, status):\n",
    "        self.attendance[date] = status\n",
    "        print(f\"Attendance for {self.name} on {date} updated: {status}\")\n",
    "\n",
    "    def get_attendance(self):\n",
    "        return self.attendance\n",
    "\n",
    "    def get_average_attendance(self):\n",
    "        total_days = len(self.attendance)\n",
    "        if total_days == 0:\n",
    "            return 0  # Avoid division by zero\n",
    "        present_days = sum(1 for status in self.attendance.values() if status == 'present')\n",
    "        average_percentage = (present_days / total_days) * 100\n",
    "        return round(average_percentage, 2)\n",
    "\n",
    "# Example usage:\n",
    "student1 = Student(\"Alice\", 15, 10, \"S12345\")\n",
    "\n",
    "student1.update_attendance(\"2022-01-10\", \"present\")\n",
    "student1.update_attendance(\"2022-01-12\", \"absent\")\n",
    "student1.update_attendance(\"2022-01-15\", \"present\")\n",
    "\n",
    "print(\"Attendance Record:\")\n",
    "print(student1.get_attendance())\n",
    "\n",
    "average_attendance = student1.get_average_attendance()\n",
    "print(f\"Average Attendance: {average_attendance}%\")\n"
   ]
  },
  {
   "cell_type": "code",
   "execution_count": null,
   "id": "86d4bd7a",
   "metadata": {},
   "outputs": [],
   "source": []
  }
 ],
 "metadata": {
  "kernelspec": {
   "display_name": "Python 3 (ipykernel)",
   "language": "python",
   "name": "python3"
  },
  "language_info": {
   "codemirror_mode": {
    "name": "ipython",
    "version": 3
   },
   "file_extension": ".py",
   "mimetype": "text/x-python",
   "name": "python",
   "nbconvert_exporter": "python",
   "pygments_lexer": "ipython3",
   "version": "3.11.3"
  }
 },
 "nbformat": 4,
 "nbformat_minor": 5
}
