{
 "cells": [
  {
   "cell_type": "markdown",
   "id": "a4da22f8",
   "metadata": {},
   "source": [
    "### 1. Why are functions advantageous to have in your programs?"
   ]
  },
  {
   "cell_type": "markdown",
   "id": "2d0793f2",
   "metadata": {},
   "source": [
    "Functions are advantageous in programs because they can be used anywhere in the program if it written once. This makes your code more organized, easier to understand,reduces storage space and saves you from writing the same code multiple times."
   ]
  },
  {
   "cell_type": "code",
   "execution_count": null,
   "id": "70e48d85",
   "metadata": {},
   "outputs": [],
   "source": []
  },
  {
   "cell_type": "markdown",
   "id": "9c306305",
   "metadata": {},
   "source": [
    "### 2. When does the code in a function run: when it&#39;s specified or when it&#39;s called?"
   ]
  },
  {
   "cell_type": "markdown",
   "id": "c24dfb2e",
   "metadata": {},
   "source": [
    "The code in the fuction runs when the fuction is called."
   ]
  },
  {
   "cell_type": "code",
   "execution_count": null,
   "id": "9788b9ac",
   "metadata": {},
   "outputs": [],
   "source": []
  },
  {
   "cell_type": "markdown",
   "id": "35b86e58",
   "metadata": {},
   "source": [
    "### 3. What statement creates a function?"
   ]
  },
  {
   "cell_type": "markdown",
   "id": "10ad2d80",
   "metadata": {},
   "source": [
    "The \"def\" statement is used to create a function."
   ]
  },
  {
   "cell_type": "code",
   "execution_count": 2,
   "id": "aada6d0c",
   "metadata": {},
   "outputs": [
    {
     "name": "stdout",
     "output_type": "stream",
     "text": [
      "hello\n"
     ]
    }
   ],
   "source": [
    "#example\n",
    "def myfunction():\n",
    "    print(\"hello\")\n",
    "myfunction()    "
   ]
  },
  {
   "cell_type": "code",
   "execution_count": null,
   "id": "14e2bda0",
   "metadata": {},
   "outputs": [],
   "source": []
  },
  {
   "cell_type": "markdown",
   "id": "c84c29a2",
   "metadata": {},
   "source": [
    "### 4. What is the difference between a function and a function call?"
   ]
  },
  {
   "cell_type": "markdown",
   "id": "d8f2930b",
   "metadata": {},
   "source": [
    "A fuction is a block of code and a function call is calling the function to execute block of code."
   ]
  },
  {
   "cell_type": "code",
   "execution_count": null,
   "id": "12c53adc",
   "metadata": {},
   "outputs": [],
   "source": []
  },
  {
   "cell_type": "markdown",
   "id": "188acb16",
   "metadata": {},
   "source": [
    "### 5. How many global scopes are there in a Python program? How many local scopes?"
   ]
  },
  {
   "cell_type": "markdown",
   "id": "8f2f71a2",
   "metadata": {},
   "source": [
    "There is only one global scope in python program"
   ]
  },
  {
   "cell_type": "markdown",
   "id": "96a492c0",
   "metadata": {},
   "source": [
    "Number of local scopes depends up on the number of functions in the program,each fuction will have a local scope."
   ]
  },
  {
   "cell_type": "code",
   "execution_count": null,
   "id": "dd0000c8",
   "metadata": {},
   "outputs": [],
   "source": []
  },
  {
   "cell_type": "markdown",
   "id": "3abe2721",
   "metadata": {},
   "source": [
    "### 6. What happens to variables in a local scope when the function call returns?"
   ]
  },
  {
   "cell_type": "markdown",
   "id": "4056467a",
   "metadata": {},
   "source": [
    "When a function call returns the local variables defined within that function's local scope cease to exist. They are destroyed, and their values are no longer accessible."
   ]
  },
  {
   "cell_type": "code",
   "execution_count": null,
   "id": "c05769e2",
   "metadata": {},
   "outputs": [],
   "source": []
  },
  {
   "cell_type": "markdown",
   "id": "6594011b",
   "metadata": {},
   "source": [
    "### 7. What is the concept of a return value? Is it possible to have a return value in an expression?"
   ]
  },
  {
   "cell_type": "markdown",
   "id": "3ed85c3a",
   "metadata": {},
   "source": [
    "return value is the value that a function can send back or \"return\" to the code that called it. When a function executes a return statement, it provides a result that can be used by the caller."
   ]
  },
  {
   "cell_type": "markdown",
   "id": "09e9fd85",
   "metadata": {},
   "source": [
    "Yes, it is possible to have a return value in an expression."
   ]
  },
  {
   "cell_type": "code",
   "execution_count": 11,
   "id": "6f9d65ef",
   "metadata": {},
   "outputs": [
    {
     "name": "stdout",
     "output_type": "stream",
     "text": [
      "10\n"
     ]
    }
   ],
   "source": [
    "#example\n",
    "def add(a,b):\n",
    "    return a+b\n",
    "c = add(2,3) * 2 #expression\n",
    "print(c)\n"
   ]
  },
  {
   "cell_type": "code",
   "execution_count": null,
   "id": "fc77cf63",
   "metadata": {},
   "outputs": [],
   "source": []
  },
  {
   "cell_type": "markdown",
   "id": "e070948b",
   "metadata": {},
   "source": [
    "### 8. If a function does not have a return statement, what is the return value of a call to that function?"
   ]
  },
  {
   "cell_type": "markdown",
   "id": "45d4ab3f",
   "metadata": {},
   "source": [
    "If a function does not have a return statement then the return value of that function call would be 'None'"
   ]
  },
  {
   "cell_type": "code",
   "execution_count": 13,
   "id": "fca50c44",
   "metadata": {},
   "outputs": [
    {
     "name": "stdout",
     "output_type": "stream",
     "text": [
      "Hello, world!\n",
      "None\n"
     ]
    }
   ],
   "source": [
    "#example\n",
    "def my_function():\n",
    "    print(\"Hello, world!\")\n",
    "\n",
    "print(my_function())\n"
   ]
  },
  {
   "cell_type": "code",
   "execution_count": null,
   "id": "4ce9c7e6",
   "metadata": {},
   "outputs": [],
   "source": []
  },
  {
   "cell_type": "markdown",
   "id": "434cf983",
   "metadata": {},
   "source": [
    "### 9. How do you make a function variable refer to the global variable?"
   ]
  },
  {
   "cell_type": "markdown",
   "id": "ea754912",
   "metadata": {},
   "source": [
    "To make a function variable refer to a global variable, you can use the 'global' keyword."
   ]
  },
  {
   "cell_type": "markdown",
   "id": "a8b635cf",
   "metadata": {},
   "source": [
    "Using this keyword we can treat a variable within a function as a global variable rather than a local one."
   ]
  },
  {
   "cell_type": "code",
   "execution_count": 15,
   "id": "d178c8dd",
   "metadata": {},
   "outputs": [
    {
     "name": "stdout",
     "output_type": "stream",
     "text": [
      "15\n"
     ]
    }
   ],
   "source": [
    "#example\n",
    "a = 10\n",
    "\n",
    "def myfunction():\n",
    "    global a        # a = 10\n",
    "    a += 5          # 10 + 5\n",
    "    print(a)\n",
    "\n",
    "myfunction()\n"
   ]
  },
  {
   "cell_type": "code",
   "execution_count": null,
   "id": "f858b3af",
   "metadata": {},
   "outputs": [],
   "source": []
  },
  {
   "cell_type": "markdown",
   "id": "9b61d37e",
   "metadata": {},
   "source": [
    "### 10. What is the data type of None?"
   ]
  },
  {
   "cell_type": "markdown",
   "id": "f9206d93",
   "metadata": {},
   "source": [
    "The data type of None is Nonetype"
   ]
  },
  {
   "cell_type": "code",
   "execution_count": 16,
   "id": "1027b62e",
   "metadata": {},
   "outputs": [
    {
     "data": {
      "text/plain": [
       "NoneType"
      ]
     },
     "execution_count": 16,
     "metadata": {},
     "output_type": "execute_result"
    }
   ],
   "source": [
    "type(None)"
   ]
  },
  {
   "cell_type": "code",
   "execution_count": null,
   "id": "5106197b",
   "metadata": {},
   "outputs": [],
   "source": []
  },
  {
   "cell_type": "markdown",
   "id": "bc3c39f8",
   "metadata": {},
   "source": [
    "### 11. What does the sentence import areallyourpetsnamederic do?"
   ]
  },
  {
   "cell_type": "markdown",
   "id": "49b11f68",
   "metadata": {},
   "source": [
    "The sentence 'import areallyourpetsnamederic' imports the module named 'areallyourpetsnamederic' if it exist, if not it returns an error.\n"
   ]
  },
  {
   "cell_type": "code",
   "execution_count": null,
   "id": "a2e069d2",
   "metadata": {},
   "outputs": [],
   "source": []
  },
  {
   "cell_type": "markdown",
   "id": "85166fba",
   "metadata": {},
   "source": [
    "### 12. If you had a bacon() feature in a spam module, what would you call it after importing spam?"
   ]
  },
  {
   "cell_type": "markdown",
   "id": "40ba2016",
   "metadata": {},
   "source": [
    "import spam"
   ]
  },
  {
   "cell_type": "markdown",
   "id": "e7d406b0",
   "metadata": {},
   "source": [
    "spam.bacon()"
   ]
  },
  {
   "cell_type": "code",
   "execution_count": null,
   "id": "7f529d04",
   "metadata": {},
   "outputs": [],
   "source": []
  },
  {
   "cell_type": "markdown",
   "id": "c4cb241a",
   "metadata": {},
   "source": [
    "### 13. What can you do to save a programme from crashing if it encounters an error?"
   ]
  },
  {
   "cell_type": "markdown",
   "id": "4666723a",
   "metadata": {},
   "source": [
    "To save a program from crashing we use error handling techniques such as exceptional handling, if it encounters an error"
   ]
  },
  {
   "cell_type": "code",
   "execution_count": null,
   "id": "20ad2b6b",
   "metadata": {},
   "outputs": [],
   "source": []
  },
  {
   "cell_type": "markdown",
   "id": "4d1ad809",
   "metadata": {},
   "source": [
    "### 14. What is the purpose of the try clause? What is the purpose of the except clause?"
   ]
  },
  {
   "cell_type": "markdown",
   "id": "9510b3c2",
   "metadata": {},
   "source": [
    "The try clause is used to enclose code that may raise exceptions, while the except clause is used to define how to handle specific exceptions that occur within the associated try block."
   ]
  },
  {
   "cell_type": "code",
   "execution_count": null,
   "id": "861ca530",
   "metadata": {},
   "outputs": [],
   "source": []
  }
 ],
 "metadata": {
  "kernelspec": {
   "display_name": "Python 3 (ipykernel)",
   "language": "python",
   "name": "python3"
  },
  "language_info": {
   "codemirror_mode": {
    "name": "ipython",
    "version": 3
   },
   "file_extension": ".py",
   "mimetype": "text/x-python",
   "name": "python",
   "nbconvert_exporter": "python",
   "pygments_lexer": "ipython3",
   "version": "3.9.13"
  }
 },
 "nbformat": 4,
 "nbformat_minor": 5
}
