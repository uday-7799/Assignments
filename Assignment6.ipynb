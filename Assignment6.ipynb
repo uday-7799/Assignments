{
 "cells": [
  {
   "cell_type": "markdown",
   "id": "31c87632",
   "metadata": {},
   "source": [
    "### Q.1. What are keywords in python? Using the keyword library, print all the python keywords."
   ]
  },
  {
   "cell_type": "markdown",
   "id": "63ce3749",
   "metadata": {},
   "source": [
    "In Python, keywords are reserved words that have special meanings and purposes in the language. These keywords cannot be used as variable names or identifiers because they are already predefined and used by Python itself"
   ]
  },
  {
   "cell_type": "code",
   "execution_count": 3,
   "id": "0bd75464",
   "metadata": {},
   "outputs": [
    {
     "name": "stdout",
     "output_type": "stream",
     "text": [
      "['False', 'None', 'True', '__peg_parser__', 'and', 'as', 'assert', 'async', 'await', 'break', 'class', 'continue', 'def', 'del', 'elif', 'else', 'except', 'finally', 'for', 'from', 'global', 'if', 'import', 'in', 'is', 'lambda', 'nonlocal', 'not', 'or', 'pass', 'raise', 'return', 'try', 'while', 'with', 'yield']\n"
     ]
    }
   ],
   "source": [
    "import keyword\n",
    "print(keyword.kwlist)"
   ]
  },
  {
   "cell_type": "markdown",
   "id": "0242f088",
   "metadata": {},
   "source": [
    "### Q.2. What are the rules to create variables in python?"
   ]
  },
  {
   "cell_type": "markdown",
   "id": "87996a80",
   "metadata": {},
   "source": [
    "1.Variable names must start with a letter or an underscore (_)."
   ]
  },
  {
   "cell_type": "markdown",
   "id": "6d8428d8",
   "metadata": {},
   "source": [
    "2.Variable names can contain letters, numbers, and underscores (_)."
   ]
  },
  {
   "cell_type": "markdown",
   "id": "fd37ed15",
   "metadata": {},
   "source": [
    "3.Variable names are case-sensitive, meaning myVar and myvar are considered different variables."
   ]
  },
  {
   "cell_type": "markdown",
   "id": "8422c293",
   "metadata": {},
   "source": [
    "4.Variable names should not be the same as Python keywords, as they are reserved for specific purposes."
   ]
  },
  {
   "cell_type": "markdown",
   "id": "22a31109",
   "metadata": {},
   "source": [
    "### Q.3. What are the standards and conventions followed for the nomenclature of variables inpython to improve code readability and maintainability?"
   ]
  },
  {
   "cell_type": "markdown",
   "id": "128c5508",
   "metadata": {},
   "source": [
    "-->Use lowercase letters for variable names, separating words with underscores (snake_case) to enhance readability."
   ]
  },
  {
   "cell_type": "markdown",
   "id": "17f3309f",
   "metadata": {},
   "source": [
    "-->Choose descriptive and meaningful names that convey the purpose or content of the variable, making the code more understandable and maintainable"
   ]
  },
  {
   "cell_type": "markdown",
   "id": "1407c6f8",
   "metadata": {},
   "source": [
    "-->Avoid using single-character names except for simple loop variables"
   ]
  },
  {
   "cell_type": "markdown",
   "id": "71f4a5c6",
   "metadata": {},
   "source": [
    "### Q.4. What will happen if a keyword is used as a variable name?"
   ]
  },
  {
   "cell_type": "markdown",
   "id": "7eb49c19",
   "metadata": {},
   "source": [
    "It will result in a syntax error. Keywords are reserved for specific purposes in the language and cannot be used as identifiers or variable names. Python's interpreter will recognize the keyword and raise a syntax error to indicate that the usage is not allowed"
   ]
  },
  {
   "cell_type": "code",
   "execution_count": 4,
   "id": "8873b273",
   "metadata": {},
   "outputs": [
    {
     "ename": "SyntaxError",
     "evalue": "invalid syntax (3169862355.py, line 2)",
     "output_type": "error",
     "traceback": [
      "\u001b[1;36m  File \u001b[1;32m\"C:\\Users\\uday kiran\\AppData\\Local\\Temp\\ipykernel_4788\\3169862355.py\"\u001b[1;36m, line \u001b[1;32m2\u001b[0m\n\u001b[1;33m    in = 10\u001b[0m\n\u001b[1;37m    ^\u001b[0m\n\u001b[1;31mSyntaxError\u001b[0m\u001b[1;31m:\u001b[0m invalid syntax\n"
     ]
    }
   ],
   "source": [
    "#example\n",
    "in = 10\n",
    "print(in)"
   ]
  },
  {
   "cell_type": "markdown",
   "id": "e15305e6",
   "metadata": {},
   "source": [
    "### Q.5. For what purpose def keyword is used?"
   ]
  },
  {
   "cell_type": "markdown",
   "id": "2a88c513",
   "metadata": {},
   "source": [
    "The 'def' keyword in Python is used to define a function"
   ]
  },
  {
   "cell_type": "code",
   "execution_count": 5,
   "id": "9bc6ae6b",
   "metadata": {},
   "outputs": [],
   "source": [
    "def hello(name):\n",
    "    return ('hello '+name)"
   ]
  },
  {
   "cell_type": "code",
   "execution_count": 7,
   "id": "92207fc1",
   "metadata": {},
   "outputs": [
    {
     "data": {
      "text/plain": [
       "'hello python'"
      ]
     },
     "execution_count": 7,
     "metadata": {},
     "output_type": "execute_result"
    }
   ],
   "source": [
    "hello('python')"
   ]
  },
  {
   "cell_type": "markdown",
   "id": "e9379310",
   "metadata": {},
   "source": [
    "### Q.6. What is the operation of this special character ‘\\’?"
   ]
  },
  {
   "cell_type": "markdown",
   "id": "effbde13",
   "metadata": {},
   "source": [
    "-->: It is used to escape special characters within strings. For example, '\\n' represents a newline character, '\\t' represents a tab character, and '\\' represents a literal backslash."
   ]
  },
  {
   "cell_type": "code",
   "execution_count": 9,
   "id": "f6cb5e48",
   "metadata": {},
   "outputs": [
    {
     "name": "stdout",
     "output_type": "stream",
     "text": [
      "hello\n",
      "how\tare\t you\n"
     ]
    }
   ],
   "source": [
    "#example\n",
    "print('hello\\nhow\\tare\\t you')"
   ]
  },
  {
   "cell_type": "markdown",
   "id": "52338606",
   "metadata": {},
   "source": [
    "-->When placed before a string literal, it can create a raw string where backslashes are treated literally. For example, r'C:\\path\\to\\file' treats backslashes as regular characters and does not interpret them as escape sequences."
   ]
  },
  {
   "cell_type": "markdown",
   "id": "5809d5c0",
   "metadata": {},
   "source": [
    "### Q.7. Give an example of the following conditions:"
   ]
  },
  {
   "cell_type": "markdown",
   "id": "4f95bbfe",
   "metadata": {},
   "source": [
    "#### (i) Homogeneous list"
   ]
  },
  {
   "cell_type": "code",
   "execution_count": 10,
   "id": "67375112",
   "metadata": {},
   "outputs": [],
   "source": [
    "#A homogeneous list in Python is a list where all the elements have the same data type\n",
    "l = [1,2,3,4,5]"
   ]
  },
  {
   "cell_type": "markdown",
   "id": "33eae183",
   "metadata": {},
   "source": [
    "#### (ii) Heterogeneous set"
   ]
  },
  {
   "cell_type": "code",
   "execution_count": 11,
   "id": "59521266",
   "metadata": {},
   "outputs": [],
   "source": [
    "#A heterogeneous set can contain elements of different data types\n",
    "s = {False,1,'two',3.14,'iv'}"
   ]
  },
  {
   "cell_type": "markdown",
   "id": "803a082a",
   "metadata": {},
   "source": [
    "#### (iii) Homogeneous tuple"
   ]
  },
  {
   "cell_type": "code",
   "execution_count": 12,
   "id": "85afd4e7",
   "metadata": {},
   "outputs": [],
   "source": [
    "#A homogeneous tuple contains elements of the same data type\n",
    "t = ('one','two','three','four','five')"
   ]
  },
  {
   "cell_type": "markdown",
   "id": "d10772f3",
   "metadata": {},
   "source": [
    "### Q.8. Explain the mutable and immutable data types with proper explanation & examples."
   ]
  },
  {
   "cell_type": "markdown",
   "id": "ba64f603",
   "metadata": {},
   "source": [
    "###  Mutable"
   ]
  },
  {
   "cell_type": "markdown",
   "id": "558d8383",
   "metadata": {},
   "source": [
    "Mutable data types are those that can be modified after they are created. When you modify a mutable object, its identity remains the same, but its contents can change.examples of mutable data types are list and dictionary"
   ]
  },
  {
   "cell_type": "code",
   "execution_count": 13,
   "id": "964e4884",
   "metadata": {},
   "outputs": [
    {
     "name": "stdout",
     "output_type": "stream",
     "text": [
      "[1, 2, 3, 4, 5]\n"
     ]
    }
   ],
   "source": [
    "#list\n",
    "l = [1,2,3,4]\n",
    "l.append(5)\n",
    "print(l)"
   ]
  },
  {
   "cell_type": "code",
   "execution_count": 14,
   "id": "60c01794",
   "metadata": {},
   "outputs": [
    {
     "name": "stdout",
     "output_type": "stream",
     "text": [
      "{'a': 1, 'b': 2, 'c': 3, 'd': 5}\n"
     ]
    }
   ],
   "source": [
    "#dictionary\n",
    "d = {'a':1,'b':2,'c':3}\n",
    "d['d'] = 5\n",
    "print(d)"
   ]
  },
  {
   "cell_type": "markdown",
   "id": "b3ac7609",
   "metadata": {},
   "source": [
    "### Immutable"
   ]
  },
  {
   "cell_type": "markdown",
   "id": "decc029d",
   "metadata": {},
   "source": [
    "Immutable data types cannot be modified once they are created. If you try to change the value of an immutable object, a new object is created with the modified value, while the original object remains unchanged.\n",
    "Examples of immutable data types are tuples,integers,strings,set"
   ]
  },
  {
   "cell_type": "code",
   "execution_count": 20,
   "id": "50032eaf",
   "metadata": {},
   "outputs": [
    {
     "ename": "TypeError",
     "evalue": "'str' object does not support item assignment",
     "output_type": "error",
     "traceback": [
      "\u001b[1;31m---------------------------------------------------------------------------\u001b[0m",
      "\u001b[1;31mTypeError\u001b[0m                                 Traceback (most recent call last)",
      "\u001b[1;32m~\\AppData\\Local\\Temp\\ipykernel_4788\\42295343.py\u001b[0m in \u001b[0;36m<module>\u001b[1;34m\u001b[0m\n\u001b[0;32m      1\u001b[0m \u001b[1;31m#string\u001b[0m\u001b[1;33m\u001b[0m\u001b[1;33m\u001b[0m\u001b[0m\n\u001b[0;32m      2\u001b[0m \u001b[0ms\u001b[0m \u001b[1;33m=\u001b[0m \u001b[1;34m'string'\u001b[0m\u001b[1;33m\u001b[0m\u001b[1;33m\u001b[0m\u001b[0m\n\u001b[1;32m----> 3\u001b[1;33m \u001b[0ms\u001b[0m\u001b[1;33m[\u001b[0m\u001b[1;36m0\u001b[0m\u001b[1;33m]\u001b[0m \u001b[1;33m=\u001b[0m \u001b[1;34m'b'\u001b[0m\u001b[1;33m\u001b[0m\u001b[1;33m\u001b[0m\u001b[0m\n\u001b[0m",
      "\u001b[1;31mTypeError\u001b[0m: 'str' object does not support item assignment"
     ]
    }
   ],
   "source": [
    "#string\n",
    "s = 'string'\n",
    "s[0] = 'b'"
   ]
  },
  {
   "cell_type": "code",
   "execution_count": 21,
   "id": "5032b709",
   "metadata": {},
   "outputs": [
    {
     "ename": "TypeError",
     "evalue": "'tuple' object does not support item assignment",
     "output_type": "error",
     "traceback": [
      "\u001b[1;31m---------------------------------------------------------------------------\u001b[0m",
      "\u001b[1;31mTypeError\u001b[0m                                 Traceback (most recent call last)",
      "\u001b[1;32m~\\AppData\\Local\\Temp\\ipykernel_4788\\4270372997.py\u001b[0m in \u001b[0;36m<module>\u001b[1;34m\u001b[0m\n\u001b[0;32m      1\u001b[0m \u001b[1;31m#tuple\u001b[0m\u001b[1;33m\u001b[0m\u001b[1;33m\u001b[0m\u001b[0m\n\u001b[0;32m      2\u001b[0m \u001b[0mt\u001b[0m \u001b[1;33m=\u001b[0m \u001b[1;33m(\u001b[0m\u001b[1;36m1\u001b[0m\u001b[1;33m,\u001b[0m\u001b[1;36m2\u001b[0m\u001b[1;33m,\u001b[0m\u001b[1;36m3\u001b[0m\u001b[1;33m,\u001b[0m\u001b[1;36m4\u001b[0m\u001b[1;33m,\u001b[0m\u001b[1;36m5\u001b[0m\u001b[1;33m)\u001b[0m\u001b[1;33m\u001b[0m\u001b[1;33m\u001b[0m\u001b[0m\n\u001b[1;32m----> 3\u001b[1;33m \u001b[0mt\u001b[0m\u001b[1;33m[\u001b[0m\u001b[1;36m5\u001b[0m\u001b[1;33m]\u001b[0m \u001b[1;33m=\u001b[0m \u001b[1;36m6\u001b[0m\u001b[1;33m\u001b[0m\u001b[1;33m\u001b[0m\u001b[0m\n\u001b[0m",
      "\u001b[1;31mTypeError\u001b[0m: 'tuple' object does not support item assignment"
     ]
    }
   ],
   "source": [
    "#tuple\n",
    "t = (1,2,3,4,5)\n",
    "t[5] = 6"
   ]
  },
  {
   "cell_type": "markdown",
   "id": "9845df1e",
   "metadata": {},
   "source": [
    "### Q.9. Write a code to create the given structure using only for loop."
   ]
  },
  {
   "cell_type": "code",
   "execution_count": 11,
   "id": "ef96984c",
   "metadata": {},
   "outputs": [
    {
     "name": "stdout",
     "output_type": "stream",
     "text": [
      "5\n",
      "    *\n",
      "   ***\n",
      "  *****\n",
      " *******\n",
      "*********\n"
     ]
    }
   ],
   "source": [
    "n = int(input())\n",
    "for i in range(1,n+1):\n",
    "    print((n-i)*' '+(2*i-1)*'*')"
   ]
  },
  {
   "cell_type": "markdown",
   "id": "1e2830c2",
   "metadata": {},
   "source": [
    "### Q.10. Write a code to create the given structure using while loop."
   ]
  },
  {
   "cell_type": "code",
   "execution_count": 18,
   "id": "64cc9f8a",
   "metadata": {},
   "outputs": [
    {
     "name": "stdout",
     "output_type": "stream",
     "text": [
      "5\n",
      " |||||||||\n",
      "  |||||||\n",
      "   |||||\n",
      "    |||\n",
      "     |\n",
      "      \n"
     ]
    }
   ],
   "source": [
    "n = int(input())\n",
    "i = 0\n",
    "while i <= n:\n",
    "    print(int(i)*' ',int(2*(n-i)-1)*'|')\n",
    "    i += 1"
   ]
  },
  {
   "cell_type": "code",
   "execution_count": null,
   "id": "68b405cd",
   "metadata": {},
   "outputs": [],
   "source": []
  }
 ],
 "metadata": {
  "kernelspec": {
   "display_name": "Python 3 (ipykernel)",
   "language": "python",
   "name": "python3"
  },
  "language_info": {
   "codemirror_mode": {
    "name": "ipython",
    "version": 3
   },
   "file_extension": ".py",
   "mimetype": "text/x-python",
   "name": "python",
   "nbconvert_exporter": "python",
   "pygments_lexer": "ipython3",
   "version": "3.9.13"
  }
 },
 "nbformat": 4,
 "nbformat_minor": 5
}
