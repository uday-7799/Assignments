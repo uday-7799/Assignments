{
 "cells": [
  {
   "cell_type": "markdown",
   "id": "92dd19bb",
   "metadata": {},
   "source": [
    "### 1. In Python, what is the difference between a built-in function and a user-defined function? Provide an example of each."
   ]
  },
  {
   "cell_type": "markdown",
   "id": "1b60bcdf",
   "metadata": {},
   "source": [
    "--> In Python, a built-in function is a function that is already provided by the language and readily available for use without requiring any additional definitions.examples are len(),sum(),max() etc"
   ]
  },
  {
   "cell_type": "code",
   "execution_count": 1,
   "id": "e77e6cd1",
   "metadata": {},
   "outputs": [
    {
     "name": "stdout",
     "output_type": "stream",
     "text": [
      "5\n"
     ]
    }
   ],
   "source": [
    "#example\n",
    "l = [1,2,3,4,5]\n",
    "a = len(l)\n",
    "print(a)"
   ]
  },
  {
   "cell_type": "markdown",
   "id": "e80a71d5",
   "metadata": {},
   "source": [
    "-->  A user-defined function is created by the programmer to perform a specific task. These functions are defined using the def keyword and can be customized according to the requirements. "
   ]
  },
  {
   "cell_type": "code",
   "execution_count": 3,
   "id": "49eb8ef6",
   "metadata": {},
   "outputs": [
    {
     "data": {
      "text/plain": [
       "1.7320508075688772"
      ]
     },
     "execution_count": 3,
     "metadata": {},
     "output_type": "execute_result"
    }
   ],
   "source": [
    "#example\n",
    "def sq_root(n):\n",
    "    return n**(1/2)\n",
    "sq_root(3)"
   ]
  },
  {
   "cell_type": "markdown",
   "id": "7adf5195",
   "metadata": {},
   "source": [
    "### 2. How can you pass arguments to a function in Python? Explain the difference between positional arguments and keyword arguments."
   ]
  },
  {
   "cell_type": "markdown",
   "id": "9eb27f31",
   "metadata": {},
   "source": [
    "Positional Arguments: These are arguments passed to a function in the same order as the function's parameter list. The values are assigned to the parameters based on their positions."
   ]
  },
  {
   "cell_type": "code",
   "execution_count": 4,
   "id": "c7bb082e",
   "metadata": {},
   "outputs": [
    {
     "name": "stdout",
     "output_type": "stream",
     "text": [
      "5\n"
     ]
    }
   ],
   "source": [
    "def add(a, b):\n",
    "    return a + b\n",
    "\n",
    "result = add(2, 3)  # Positional arguments: 2 and 3\n",
    "print(result)  \n"
   ]
  },
  {
   "cell_type": "markdown",
   "id": "b7c76355",
   "metadata": {},
   "source": [
    "Keyword Arguments: These are arguments passed to a function using the parameter names followed by the corresponding values. The order of the arguments doesn't matter in this case."
   ]
  },
  {
   "cell_type": "code",
   "execution_count": 5,
   "id": "7bb84b7e",
   "metadata": {},
   "outputs": [
    {
     "name": "stdout",
     "output_type": "stream",
     "text": [
      "Hello, Alice! You are 25 years old.\n"
     ]
    }
   ],
   "source": [
    "def greet(name, age):\n",
    "    print(\"Hello, \" + name + \"! You are \" + str(age) + \" years old.\")\n",
    "\n",
    "greet(name=\"Alice\", age=25)  # Keyword arguments: name=\"Alice\" and age=25\n"
   ]
  },
  {
   "cell_type": "markdown",
   "id": "aa5906da",
   "metadata": {},
   "source": [
    "### 3. What is the purpose of the return statement in a function? Can a function have multiple return statements? Explain with an example."
   ]
  },
  {
   "cell_type": "markdown",
   "id": "09828061",
   "metadata": {},
   "source": [
    "The purpose of the return statement in a function is to specify the value that the function should output or \"return\" when it is called. It allows a function to compute a result and pass it back to the code that called the function."
   ]
  },
  {
   "cell_type": "markdown",
   "id": "6c6a3c04",
   "metadata": {},
   "source": [
    "Yes, a function can have multiple return statements. When a return statement is encountered in a function, the function immediately exits, and the specified value is returned. Having multiple return statements allows the function to conditionally return different values based on certain conditions or paths of execution."
   ]
  },
  {
   "cell_type": "code",
   "execution_count": 6,
   "id": "526aaed0",
   "metadata": {},
   "outputs": [
    {
     "data": {
      "text/plain": [
       "'B'"
      ]
     },
     "execution_count": 6,
     "metadata": {},
     "output_type": "execute_result"
    }
   ],
   "source": [
    "def get_grade(score):\n",
    "    if score >= 90:\n",
    "        return \"A\"\n",
    "    elif score >= 80:\n",
    "        return \"B\"\n",
    "    elif score >= 70:\n",
    "        return \"C\"\n",
    "    else:\n",
    "        return \"F\"\n",
    "\n",
    "get_grade(85)"
   ]
  },
  {
   "cell_type": "markdown",
   "id": "526470f2",
   "metadata": {},
   "source": [
    "### 4. What are lambda functions in Python? How are they different from regular functions? Provide an example where a lambda function can be useful."
   ]
  },
  {
   "cell_type": "markdown",
   "id": "2e93c6db",
   "metadata": {},
   "source": [
    "Lambda functions in python are anonymous functions that are defined without a name. They are typically used for simple and concise operations, where defining a regular function would be unnecessary."
   ]
  },
  {
   "cell_type": "markdown",
   "id": "bcebb904",
   "metadata": {},
   "source": [
    "DIFFERENCES :"
   ]
  },
  {
   "cell_type": "markdown",
   "id": "a91850ab",
   "metadata": {},
   "source": [
    "1.Lambda functions are defined using the lambda keyword, whereas regular functions are defined using the def keyword."
   ]
  },
  {
   "cell_type": "markdown",
   "id": "009c5eac",
   "metadata": {},
   "source": [
    "2.Lambda functions can only contain a single expression, while regular functions can have multiple statements and a proper function body."
   ]
  },
  {
   "cell_type": "code",
   "execution_count": 10,
   "id": "69819b1e",
   "metadata": {},
   "outputs": [
    {
     "name": "stdout",
     "output_type": "stream",
     "text": [
      "[1, 4, 9, 16, 25]\n"
     ]
    }
   ],
   "source": [
    "l = [1,2,3,4,5]\n",
    "a = list(map(lambda x : x**2,l))\n",
    "print(a)"
   ]
  },
  {
   "cell_type": "markdown",
   "id": "a114002c",
   "metadata": {},
   "source": [
    "### 5. How does the concept of \"scope\" apply to functions in Python? Explain the difference between local scope and global scope."
   ]
  },
  {
   "cell_type": "markdown",
   "id": "91dc2eac",
   "metadata": {},
   "source": [
    "The concept of \"scope\" refers to the visibility and accessibility of variables within a program. The scope determines where a variable can be referenced or accessed."
   ]
  },
  {
   "cell_type": "markdown",
   "id": "622bf10d",
   "metadata": {},
   "source": [
    "Local Scope: Variables defined within a function have a local scope. They are only accessible within the function in which they are defined. Local variables cannot be accessed outside the function."
   ]
  },
  {
   "cell_type": "code",
   "execution_count": 11,
   "id": "b8705316",
   "metadata": {},
   "outputs": [
    {
     "name": "stdout",
     "output_type": "stream",
     "text": [
      "10\n"
     ]
    },
    {
     "ename": "NameError",
     "evalue": "name 'x' is not defined",
     "output_type": "error",
     "traceback": [
      "\u001b[1;31m---------------------------------------------------------------------------\u001b[0m",
      "\u001b[1;31mNameError\u001b[0m                                 Traceback (most recent call last)",
      "\u001b[1;32m~\\AppData\\Local\\Temp\\ipykernel_11524\\4216052743.py\u001b[0m in \u001b[0;36m<module>\u001b[1;34m\u001b[0m\n\u001b[0;32m      5\u001b[0m \u001b[1;33m\u001b[0m\u001b[0m\n\u001b[0;32m      6\u001b[0m \u001b[0mmy_function\u001b[0m\u001b[1;33m(\u001b[0m\u001b[1;33m)\u001b[0m\u001b[1;33m\u001b[0m\u001b[1;33m\u001b[0m\u001b[0m\n\u001b[1;32m----> 7\u001b[1;33m \u001b[0mprint\u001b[0m\u001b[1;33m(\u001b[0m\u001b[0mx\u001b[0m\u001b[1;33m)\u001b[0m  \u001b[1;31m# Error: NameError - x is not defined\u001b[0m\u001b[1;33m\u001b[0m\u001b[1;33m\u001b[0m\u001b[0m\n\u001b[0m",
      "\u001b[1;31mNameError\u001b[0m: name 'x' is not defined"
     ]
    }
   ],
   "source": [
    "#example\n",
    "def my_function():\n",
    "    x = 10  # Local variable\n",
    "    print(x)\n",
    "\n",
    "my_function() \n",
    "print(x)  # Error: NameError - x is not defined\n"
   ]
  },
  {
   "cell_type": "markdown",
   "id": "875bf349",
   "metadata": {},
   "source": [
    "Global Scope: Variables defined outside any function or at the module level have a global scope. They can be accessed from anywhere in the code, including inside functions. Global variables are declared using the global keyword inside a function if they need to be modified."
   ]
  },
  {
   "cell_type": "code",
   "execution_count": 13,
   "id": "6f2cdc9b",
   "metadata": {},
   "outputs": [
    {
     "name": "stdout",
     "output_type": "stream",
     "text": [
      "10\n",
      "10\n"
     ]
    }
   ],
   "source": [
    "x = 10  # Global variable\n",
    "\n",
    "def my_function():\n",
    "    print(x)\n",
    "\n",
    "my_function() \n",
    "print(x) \n"
   ]
  },
  {
   "cell_type": "markdown",
   "id": "dc478f54",
   "metadata": {},
   "source": [
    "### 6. How can you use the \"return\" statement in a Python function to return multiple values?"
   ]
  },
  {
   "cell_type": "markdown",
   "id": "72666092",
   "metadata": {},
   "source": [
    "In Python, you can use the return statement in a function to return multiple values by returning them as a tuple, list, or any other iterable object."
   ]
  },
  {
   "cell_type": "code",
   "execution_count": 2,
   "id": "9a05ebc1",
   "metadata": {},
   "outputs": [
    {
     "name": "stdout",
     "output_type": "stream",
     "text": [
      "('Alice', 25, 'New York')\n"
     ]
    }
   ],
   "source": [
    "def get_person_details():\n",
    "    name = \"Alice\"\n",
    "    age = 25\n",
    "    city = \"New York\"\n",
    "    return name, age, city\n",
    "\n",
    "person = get_person_details()\n",
    "print(person)  # Output: ('Alice', 25, 'New York')"
   ]
  },
  {
   "cell_type": "markdown",
   "id": "e930d952",
   "metadata": {},
   "source": [
    "### 7. What is the difference between the \"pass by value\" and \"pass by reference\" concepts when it comes to function arguments in Python?"
   ]
  },
  {
   "cell_type": "markdown",
   "id": "73ac3032",
   "metadata": {},
   "source": [
    "In Python, the concept of \"pass by value\" and \"pass by reference\" is not directly applicable. Instead, Python uses a combination of both concepts depending on the type of object being passed as an argument."
   ]
  },
  {
   "cell_type": "markdown",
   "id": "4ee81df5",
   "metadata": {},
   "source": [
    "--> Immutable objects (e.g., numbers, strings, tuples) are passed by value:\n",
    "\n",
    "--> When an immutable object is passed as an argument to a function, a copy of the object is created, and the function operates on that copy."
   ]
  },
  {
   "cell_type": "code",
   "execution_count": 5,
   "id": "86f0b14e",
   "metadata": {},
   "outputs": [
    {
     "name": "stdout",
     "output_type": "stream",
     "text": [
      "[1, 2, 3, 10]\n",
      "10\n"
     ]
    }
   ],
   "source": [
    "#example\n",
    "def modify_list(lst, num):\n",
    "    lst.append(num)\n",
    "    num = 100\n",
    "\n",
    "my_list = [1, 2, 3]\n",
    "my_num = 10\n",
    "\n",
    "modify_list(my_list, my_num)\n",
    "print(my_list)  # Output: [1, 2, 3, 10]\n",
    "print(my_num)  # Output: 10\n"
   ]
  },
  {
   "cell_type": "markdown",
   "id": "225bc835",
   "metadata": {},
   "source": [
    "--> Mutable objects (e.g., lists, dictionaries) are passed by reference:\n",
    "\n",
    "--> When a mutable object is passed as an argument to a function, the function receives a reference to the original object."
   ]
  },
  {
   "cell_type": "markdown",
   "id": "d4f55810",
   "metadata": {},
   "source": [
    "### 8. Create a function that can intake integer or decimal value and do following operations:\n",
    "a. Logarithmic function (log x)\n",
    "b. Exponential function (exp(x))\n",
    "c. Power function with base 2 (2**x)\n",
    "d. Square root"
   ]
  },
  {
   "cell_type": "code",
   "execution_count": 6,
   "id": "7cb7da5b",
   "metadata": {},
   "outputs": [
    {
     "name": "stdout",
     "output_type": "stream",
     "text": [
      "2.302585092994046\n",
      "1.144222799920162\n"
     ]
    }
   ],
   "source": [
    "#a. Logarithmic function (log x)\n",
    "import math\n",
    "\n",
    "def logarithmic_function(number):\n",
    "    return math.log(number)\n",
    "\n",
    "\n",
    "result = logarithmic_function(10)  \n",
    "print(result) \n",
    "\n",
    "result = logarithmic_function(3.14) \n",
    "print(result) \n",
    "\n"
   ]
  },
  {
   "cell_type": "code",
   "execution_count": 7,
   "id": "022091b0",
   "metadata": {},
   "outputs": [
    {
     "name": "stdout",
     "output_type": "stream",
     "text": [
      "7.38905609893065\n",
      "4.4816890703380645\n"
     ]
    }
   ],
   "source": [
    "#b.exponential function (exp(x))\n",
    "import math\n",
    "\n",
    "def exponential_function(number):\n",
    "    return math.exp(number)\n",
    "\n",
    "result = exponential_function(2) \n",
    "print(result) \n",
    "\n",
    "result = exponential_function(1.5) \n",
    "print(result)  \n",
    "\n"
   ]
  },
  {
   "cell_type": "code",
   "execution_count": 8,
   "id": "301e5f8f",
   "metadata": {},
   "outputs": [
    {
     "name": "stdout",
     "output_type": "stream",
     "text": [
      "8\n",
      "2.8284271247461903\n"
     ]
    }
   ],
   "source": [
    "#power function with base 2(2**x)\n",
    "def power_function(number):\n",
    "    return 2 ** number\n",
    "\n",
    "result = power_function(3)  \n",
    "print(result) \n",
    "\n",
    "result = power_function(1.5) \n",
    "print(result) "
   ]
  },
  {
   "cell_type": "code",
   "execution_count": 9,
   "id": "c2d962b1",
   "metadata": {},
   "outputs": [
    {
     "data": {
      "text/plain": [
       "12.0"
      ]
     },
     "execution_count": 9,
     "metadata": {},
     "output_type": "execute_result"
    }
   ],
   "source": [
    "#square root\n",
    "def sq_root(n):\n",
    "    return n*(1/2)\n",
    "sq_root(24)"
   ]
  },
  {
   "cell_type": "markdown",
   "id": "090da382",
   "metadata": {},
   "source": [
    "### 9. Create a function that takes a full name as an argument and returns first name and last name."
   ]
  },
  {
   "cell_type": "code",
   "execution_count": 10,
   "id": "a19155c5",
   "metadata": {},
   "outputs": [
    {
     "name": "stdout",
     "output_type": "stream",
     "text": [
      "First name: John\n",
      "Last name: Doe\n"
     ]
    }
   ],
   "source": [
    "def get_first_last_name(full_name):\n",
    "    names = full_name.split()\n",
    "    first_name = names[0]\n",
    "    last_name = names[-1]\n",
    "    return first_name, last_name\n",
    "\n",
    "full_name = \"John Doe\"\n",
    "first_name, last_name = get_first_last_name(full_name)\n",
    "print(\"First name:\", first_name)  \n",
    "print(\"Last name:\", last_name) "
   ]
  },
  {
   "cell_type": "code",
   "execution_count": null,
   "id": "5b43db1d",
   "metadata": {},
   "outputs": [],
   "source": []
  }
 ],
 "metadata": {
  "kernelspec": {
   "display_name": "Python 3 (ipykernel)",
   "language": "python",
   "name": "python3"
  },
  "language_info": {
   "codemirror_mode": {
    "name": "ipython",
    "version": 3
   },
   "file_extension": ".py",
   "mimetype": "text/x-python",
   "name": "python",
   "nbconvert_exporter": "python",
   "pygments_lexer": "ipython3",
   "version": "3.9.13"
  }
 },
 "nbformat": 4,
 "nbformat_minor": 5
}
