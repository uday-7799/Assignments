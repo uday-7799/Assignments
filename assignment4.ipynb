{
 "cells": [
  {
   "cell_type": "markdown",
   "id": "6ec120eb",
   "metadata": {},
   "source": [
    "### 1. What exactly is []?"
   ]
  },
  {
   "cell_type": "markdown",
   "id": "6780f499",
   "metadata": {},
   "source": [
    "[] is a list in python"
   ]
  },
  {
   "cell_type": "markdown",
   "id": "9db1ceaf",
   "metadata": {},
   "source": [
    "### 2. In a list of values stored in a variable called spam, how would you assign the value &#39;hello&#39; as thethird value? (Assume [2, 4, 6, 8, 10] are in spam.)"
   ]
  },
  {
   "cell_type": "code",
   "execution_count": 3,
   "id": "24f666ec",
   "metadata": {},
   "outputs": [
    {
     "name": "stdout",
     "output_type": "stream",
     "text": [
      "[2, 4, 'hello', 6, 8, 10]\n"
     ]
    }
   ],
   "source": [
    "spam = [2,4,6,8,10]\n",
    "spam.insert(2,'hello') # or spam[2] = 'hello'\n",
    "print(spam)"
   ]
  },
  {
   "cell_type": "markdown",
   "id": "c8501243",
   "metadata": {},
   "source": [
    "### 3. What is the value of spam[int(int('3' * 2) / 11)]?"
   ]
  },
  {
   "cell_type": "code",
   "execution_count": 4,
   "id": "a13ef29c",
   "metadata": {},
   "outputs": [
    {
     "data": {
      "text/plain": [
       "'d'"
      ]
     },
     "execution_count": 4,
     "metadata": {},
     "output_type": "execute_result"
    }
   ],
   "source": [
    "spam = ['a','b','c','d']\n",
    "spam[int(int('3' * 2) / 11)]"
   ]
  },
  {
   "cell_type": "markdown",
   "id": "397df812",
   "metadata": {},
   "source": [
    "### 4. What is the value of spam[-1]?"
   ]
  },
  {
   "cell_type": "code",
   "execution_count": 6,
   "id": "5e1ce82c",
   "metadata": {},
   "outputs": [
    {
     "data": {
      "text/plain": [
       "'d'"
      ]
     },
     "execution_count": 6,
     "metadata": {},
     "output_type": "execute_result"
    }
   ],
   "source": [
    "spam[-1]"
   ]
  },
  {
   "cell_type": "markdown",
   "id": "ae8e3126",
   "metadata": {},
   "source": [
    "### 5. What is the value of spam[:2]?"
   ]
  },
  {
   "cell_type": "code",
   "execution_count": 7,
   "id": "36495832",
   "metadata": {},
   "outputs": [
    {
     "data": {
      "text/plain": [
       "['a', 'b']"
      ]
     },
     "execution_count": 7,
     "metadata": {},
     "output_type": "execute_result"
    }
   ],
   "source": [
    "spam[:2]"
   ]
  },
  {
   "cell_type": "markdown",
   "id": "d65fc102",
   "metadata": {},
   "source": [
    "### 6. What is the value of bacon.index('cat')?"
   ]
  },
  {
   "cell_type": "code",
   "execution_count": 3,
   "id": "7c87237e",
   "metadata": {},
   "outputs": [
    {
     "data": {
      "text/plain": [
       "1"
      ]
     },
     "execution_count": 3,
     "metadata": {},
     "output_type": "execute_result"
    }
   ],
   "source": [
    "bacon = [3.14,'cat',11,'cat',True]\n",
    "bacon.index('cat')"
   ]
  },
  {
   "cell_type": "markdown",
   "id": "ae84dd07",
   "metadata": {},
   "source": [
    "### 7. How does bacon.append(99) change the look of the list value in bacon?"
   ]
  },
  {
   "cell_type": "markdown",
   "id": "b2a35c84",
   "metadata": {},
   "source": [
    "bacon.append(99) adds the value 99 in the end to the existing list"
   ]
  },
  {
   "cell_type": "code",
   "execution_count": 4,
   "id": "16085dfb",
   "metadata": {},
   "outputs": [
    {
     "name": "stdout",
     "output_type": "stream",
     "text": [
      "[3.14, 'cat', 11, 'cat', True, 99]\n"
     ]
    }
   ],
   "source": [
    "bacon = [3.14,'cat',11,'cat',True]\n",
    "bacon.append(99)\n",
    "print(bacon)"
   ]
  },
  {
   "cell_type": "markdown",
   "id": "592319bd",
   "metadata": {},
   "source": [
    "### 8. How does bacon.remove(&#39;cat&#39;) change the look of the list in bacon?"
   ]
  },
  {
   "cell_type": "markdown",
   "id": "1af5b77f",
   "metadata": {},
   "source": [
    "romove the first occurance of 'cat' from the list"
   ]
  },
  {
   "cell_type": "code",
   "execution_count": 2,
   "id": "4cb6656c",
   "metadata": {},
   "outputs": [
    {
     "name": "stdout",
     "output_type": "stream",
     "text": [
      "[3.14, 11, 'cat', True]\n"
     ]
    }
   ],
   "source": [
    "bacon = [3.14,'cat',11,'cat',True]\n",
    "bacon.remove('cat')\n",
    "print(bacon)"
   ]
  },
  {
   "cell_type": "markdown",
   "id": "ec483308",
   "metadata": {},
   "source": [
    "### 9. What are the list concatenation and list replication operators?"
   ]
  },
  {
   "cell_type": "markdown",
   "id": "132c2f3e",
   "metadata": {},
   "source": [
    "LIST CONCATENATION:\n",
    "The plus sign (+) can be used to concatenate two or more lists together. It creates a new list by joining the elements of the operands in the order they appear"
   ]
  },
  {
   "cell_type": "code",
   "execution_count": 5,
   "id": "b9f21b82",
   "metadata": {},
   "outputs": [
    {
     "name": "stdout",
     "output_type": "stream",
     "text": [
      "['hello', '123']\n"
     ]
    }
   ],
   "source": [
    "#example\n",
    "l1 = ['hello']\n",
    "l2 = ['123']\n",
    "print(l1+l2)"
   ]
  },
  {
   "cell_type": "markdown",
   "id": "4da3fda4",
   "metadata": {},
   "source": [
    "LIST REPLICATION:\n",
    "In this the list elements are repeated by a specified number of times and form a new list with that elements\n",
    "    "
   ]
  },
  {
   "cell_type": "code",
   "execution_count": 8,
   "id": "d3bc0f84",
   "metadata": {},
   "outputs": [
    {
     "name": "stdout",
     "output_type": "stream",
     "text": [
      "[1, 2, 3, 4, 5, 1, 2, 3, 4, 5, 1, 2, 3, 4, 5]\n"
     ]
    }
   ],
   "source": [
    "#example\n",
    "repl1 = [1,2,3,4,5]\n",
    "repl2 = repl1 * 3\n",
    "print(repl2)"
   ]
  },
  {
   "cell_type": "markdown",
   "id": "aa370650",
   "metadata": {},
   "source": [
    "### 10. What is difference between the list methods append() and insert()?"
   ]
  },
  {
   "cell_type": "markdown",
   "id": "416802f6",
   "metadata": {},
   "source": [
    "The append() method is used to add an element to the end of a list. It takes a single argument"
   ]
  },
  {
   "cell_type": "code",
   "execution_count": 10,
   "id": "414b77be",
   "metadata": {},
   "outputs": [
    {
     "name": "stdout",
     "output_type": "stream",
     "text": [
      "[1, 2, 3, 4, 'abc', 5]\n"
     ]
    }
   ],
   "source": [
    "#example\n",
    "al = [1,2,3,4,'abc']\n",
    "al.append(5)\n",
    "print(al)"
   ]
  },
  {
   "cell_type": "markdown",
   "id": "6e632b1f",
   "metadata": {},
   "source": [
    "The insert() method is used to insert an element at a specific index in a list. It takes two arguments"
   ]
  },
  {
   "cell_type": "code",
   "execution_count": 11,
   "id": "8c0db795",
   "metadata": {},
   "outputs": [
    {
     "name": "stdout",
     "output_type": "stream",
     "text": [
      "[1, 2, 3, 4, 'abc']\n"
     ]
    }
   ],
   "source": [
    "#example\n",
    "il = [1,2,3,4,'abc']\n",
    "al.insert(0,'hello')\n",
    "print(il)"
   ]
  },
  {
   "cell_type": "markdown",
   "id": "a67dfe57",
   "metadata": {},
   "source": [
    "### 11. What are the two methods for removing items from a list?"
   ]
  },
  {
   "cell_type": "markdown",
   "id": "4c7ae482",
   "metadata": {},
   "source": [
    "the two methods for removing items in list are "
   ]
  },
  {
   "cell_type": "markdown",
   "id": "78d86651",
   "metadata": {},
   "source": [
    "1.remove()"
   ]
  },
  {
   "cell_type": "markdown",
   "id": "36221b17",
   "metadata": {},
   "source": [
    "The remove() method is used to remove the first occurrence of a specified value from a list"
   ]
  },
  {
   "cell_type": "markdown",
   "id": "45ffb467",
   "metadata": {},
   "source": [
    "2.pop()"
   ]
  },
  {
   "cell_type": "markdown",
   "id": "40ac56cf",
   "metadata": {},
   "source": [
    "The pop() method is used to remove an element from a list at a specified index. It can also return the removed element if no index is specified"
   ]
  },
  {
   "cell_type": "markdown",
   "id": "f4bc611d",
   "metadata": {},
   "source": [
    "### 12. Describe how list values and string values are identical."
   ]
  },
  {
   "cell_type": "markdown",
   "id": "aa41e10e",
   "metadata": {},
   "source": [
    "List values and string values are both sequences of elements, where each element can be accessed using indexing and slicing operations. Additionally, both list values and string values support various methods for manipulation and iteration."
   ]
  },
  {
   "cell_type": "markdown",
   "id": "4c73122f",
   "metadata": {},
   "source": [
    "### 13. What&#39;s the difference between tuples and lists?"
   ]
  },
  {
   "cell_type": "markdown",
   "id": "b69455e5",
   "metadata": {},
   "source": [
    "Tuples are immutable, meaning their elements cannot be modified once defined, while lists are mutable and can be modified."
   ]
  },
  {
   "cell_type": "markdown",
   "id": "0b9cdc72",
   "metadata": {},
   "source": [
    "### 14. How do you type a tuple value that only contains the integer 42?"
   ]
  },
  {
   "cell_type": "code",
   "execution_count": 1,
   "id": "2dffe10b",
   "metadata": {},
   "outputs": [],
   "source": [
    "t = (42)"
   ]
  },
  {
   "cell_type": "markdown",
   "id": "6d459e72",
   "metadata": {},
   "source": [
    "### 15. How do you get a list value&#39;s tuple form? How do you get a tuple value&#39;s list form?"
   ]
  },
  {
   "cell_type": "code",
   "execution_count": 2,
   "id": "a7428817",
   "metadata": {},
   "outputs": [
    {
     "name": "stdout",
     "output_type": "stream",
     "text": [
      "(1, 2, 3)\n"
     ]
    }
   ],
   "source": [
    "#to get a list value's tuple form\n",
    "my_list = [1, 2, 3]\n",
    "my_tuple = tuple(my_list)\n",
    "\n",
    "print(my_tuple)\n"
   ]
  },
  {
   "cell_type": "code",
   "execution_count": 3,
   "id": "6c253e19",
   "metadata": {},
   "outputs": [
    {
     "name": "stdout",
     "output_type": "stream",
     "text": [
      "[1, 2, 3]\n"
     ]
    }
   ],
   "source": [
    "#to get a tuple value's list form\n",
    "my_tuple = (1, 2, 3)\n",
    "my_list = list(my_tuple)\n",
    "\n",
    "print(my_list)\n"
   ]
  },
  {
   "cell_type": "markdown",
   "id": "d6fc3878",
   "metadata": {},
   "source": [
    "### 16. Variables that &quot;contain&quot; list values are not necessarily lists themselves. Instead, what do they contain?"
   ]
  },
  {
   "cell_type": "markdown",
   "id": "c8c0f60a",
   "metadata": {},
   "source": [
    "Variables that \"contain\" list values in Python actually store references or pointers to the list objects in memory. The variables themselves are not the lists but rather references to the lists"
   ]
  },
  {
   "cell_type": "markdown",
   "id": "6fa65cb5",
   "metadata": {},
   "source": [
    "### 17. How do you distinguish between copy.copy() and  copy.deepcopy()?"
   ]
  },
  {
   "cell_type": "markdown",
   "id": "fd3c17d1",
   "metadata": {},
   "source": [
    "copy.copy() creates a shallow copy of an object, which means it creates a new object with references to the same nested objects. Changes to nested objects will be reflected in both the original and copied objects."
   ]
  },
  {
   "cell_type": "code",
   "execution_count": 4,
   "id": "8e9f010b",
   "metadata": {},
   "outputs": [
    {
     "name": "stdout",
     "output_type": "stream",
     "text": [
      "[1, [4, 3]]\n",
      "[1, [4, 3]]\n"
     ]
    }
   ],
   "source": [
    "import copy\n",
    "\n",
    "original_list = [1, [2, 3]]\n",
    "copied_list = copy.copy(original_list)\n",
    "\n",
    "original_list[1][0] = 4\n",
    "\n",
    "print(original_list) \n",
    "print(copied_list) "
   ]
  },
  {
   "cell_type": "markdown",
   "id": "16cece20",
   "metadata": {},
   "source": [
    "copy.deepcopy() creates a deep copy of an object, which means it creates a completely independent object with its own copies of nested objects. Changes to nested objects will not affect the original object or other copies."
   ]
  },
  {
   "cell_type": "code",
   "execution_count": 5,
   "id": "cb044b77",
   "metadata": {},
   "outputs": [
    {
     "name": "stdout",
     "output_type": "stream",
     "text": [
      "[1, [4, 3]]\n",
      "[1, [2, 3]]\n"
     ]
    }
   ],
   "source": [
    "import copy\n",
    "\n",
    "original_list = [1, [2, 3]]\n",
    "deepcopied_list = copy.deepcopy(original_list)\n",
    "\n",
    "original_list[1][0] = 4\n",
    "\n",
    "print(original_list)    \n",
    "print(deepcopied_list)  \n"
   ]
  },
  {
   "cell_type": "code",
   "execution_count": null,
   "id": "64b3345e",
   "metadata": {},
   "outputs": [],
   "source": []
  },
  {
   "cell_type": "code",
   "execution_count": null,
   "id": "e45268f7",
   "metadata": {},
   "outputs": [],
   "source": []
  }
 ],
 "metadata": {
  "kernelspec": {
   "display_name": "Python 3 (ipykernel)",
   "language": "python",
   "name": "python3"
  },
  "language_info": {
   "codemirror_mode": {
    "name": "ipython",
    "version": 3
   },
   "file_extension": ".py",
   "mimetype": "text/x-python",
   "name": "python",
   "nbconvert_exporter": "python",
   "pygments_lexer": "ipython3",
   "version": "3.9.13"
  }
 },
 "nbformat": 4,
 "nbformat_minor": 5
}
