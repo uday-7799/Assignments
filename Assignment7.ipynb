{
 "cells": [
  {
   "cell_type": "markdown",
   "id": "c6beaf68",
   "metadata": {},
   "source": [
    "### Q.1. Create two int type variables, apply addition, subtraction, division and multiplications and store the results in variables. Then print the data in the following format by calling the variables:"
   ]
  },
  {
   "cell_type": "code",
   "execution_count": null,
   "id": "c7a7fe98",
   "metadata": {},
   "outputs": [],
   "source": [
    "# First variable is __ & second variable is __.\n",
    "# Addition: __ + __ = __\n",
    "# Subtraction: __ - __ = __\n",
    "# Multiplication: __ * __ = __\n",
    "# Division: __ / __ = __"
   ]
  },
  {
   "cell_type": "code",
   "execution_count": 5,
   "id": "0a5a77b4",
   "metadata": {},
   "outputs": [
    {
     "name": "stdout",
     "output_type": "stream",
     "text": [
      "12\n",
      "3\n",
      "First variable is 12 & second variable is 3.\n",
      "Addition:12 + 3 = 15\n",
      "Subtraction:12 - 3 = 9\n",
      "Multiplication:12 * 3 = 36\n",
      "Divsion:12 + 3 = 4.0\n"
     ]
    }
   ],
   "source": [
    "a = int(input())\n",
    "b = int(input())\n",
    "print('First variable is {} & second variable is {}.'.format(a,b))\n",
    "print('Addition:{} + {} = {}'.format(a,b,a+b))\n",
    "print('Subtraction:{} - {} = {}'.format(a,b,a-b))\n",
    "print('Multiplication:{} * {} = {}'.format(a,b,a*b))\n",
    "print('Divsion:{} + {} = {}'.format(a,b,a/b))"
   ]
  },
  {
   "cell_type": "markdown",
   "id": "73f63b22",
   "metadata": {},
   "source": [
    "### Q.2. What is the difference between the following operators:"
   ]
  },
  {
   "cell_type": "code",
   "execution_count": 6,
   "id": "351124fa",
   "metadata": {},
   "outputs": [],
   "source": [
    "# (i) ‘/’ & ‘//’\n",
    "# (ii) ‘**’ & ‘^’"
   ]
  },
  {
   "cell_type": "markdown",
   "id": "c1c8847c",
   "metadata": {},
   "source": [
    "Division : The division returns the exact quotient in the float data type."
   ]
  },
  {
   "cell_type": "code",
   "execution_count": 19,
   "id": "dcf246aa",
   "metadata": {},
   "outputs": [
    {
     "name": "stdout",
     "output_type": "stream",
     "text": [
      "2.4\n"
     ]
    }
   ],
   "source": [
    "print(12/5)"
   ]
  },
  {
   "cell_type": "markdown",
   "id": "c8a6758a",
   "metadata": {},
   "source": [
    "Floor Division : The floor division return the value that is rounded down to the nearest integer of the quotient. "
   ]
  },
  {
   "cell_type": "code",
   "execution_count": 20,
   "id": "1a547342",
   "metadata": {},
   "outputs": [
    {
     "name": "stdout",
     "output_type": "stream",
     "text": [
      "2\n"
     ]
    }
   ],
   "source": [
    "print(12//5)"
   ]
  },
  {
   "cell_type": "markdown",
   "id": "4839305b",
   "metadata": {},
   "source": [
    "** operator performs exponentiation "
   ]
  },
  {
   "cell_type": "code",
   "execution_count": 21,
   "id": "081cd796",
   "metadata": {},
   "outputs": [
    {
     "name": "stdout",
     "output_type": "stream",
     "text": [
      "8\n"
     ]
    }
   ],
   "source": [
    "print(2**3)"
   ]
  },
  {
   "cell_type": "markdown",
   "id": "7334e163",
   "metadata": {},
   "source": [
    "^ operator is used for bitwise XOR operation"
   ]
  },
  {
   "cell_type": "code",
   "execution_count": 24,
   "id": "c746f84b",
   "metadata": {},
   "outputs": [
    {
     "name": "stdout",
     "output_type": "stream",
     "text": [
      "6\n"
     ]
    }
   ],
   "source": [
    "print(3^5) #3 -- 011\n",
    "           #5 -- 101\n",
    "           #     TTF\n",
    "           #     110 === 6"
   ]
  },
  {
   "cell_type": "markdown",
   "id": "610e16da",
   "metadata": {},
   "source": [
    "### Q.3. List the logical operators."
   ]
  },
  {
   "cell_type": "markdown",
   "id": "2691d567",
   "metadata": {},
   "source": [
    "There are 3 logical operators in python"
   ]
  },
  {
   "cell_type": "markdown",
   "id": "712860ee",
   "metadata": {},
   "source": [
    "AND , OR and NOT"
   ]
  },
  {
   "cell_type": "markdown",
   "id": "618e7d8e",
   "metadata": {},
   "source": [
    " The AND operator returns 'True' if both operands are 'True', otherwise, it returns 'False'."
   ]
  },
  {
   "cell_type": "code",
   "execution_count": 25,
   "id": "5909d606",
   "metadata": {},
   "outputs": [
    {
     "name": "stdout",
     "output_type": "stream",
     "text": [
      "True\n"
     ]
    }
   ],
   "source": [
    "#AND\n",
    "x = 5\n",
    "y = 10\n",
    "z = 3\n",
    "result = x < y and y > z\n",
    "print(result)  "
   ]
  },
  {
   "cell_type": "markdown",
   "id": "ea3d55d1",
   "metadata": {},
   "source": [
    " The or operator returns 'True' if at least one of the operands is 'True'. If both operands are 'False', it returns 'False'."
   ]
  },
  {
   "cell_type": "code",
   "execution_count": 26,
   "id": "3ce81fcc",
   "metadata": {},
   "outputs": [
    {
     "name": "stdout",
     "output_type": "stream",
     "text": [
      "True\n"
     ]
    }
   ],
   "source": [
    "#OR\n",
    "x = 5\n",
    "y = 10\n",
    "z = 3\n",
    "\n",
    "result = x > y or y > z\n",
    "print(result)  "
   ]
  },
  {
   "cell_type": "markdown",
   "id": "25aec5a2",
   "metadata": {},
   "source": [
    "The 'not' operator is a unary operator that negates the value of a Boolean expression. It returns 'True' if the expression is 'False', and vice versa."
   ]
  },
  {
   "cell_type": "code",
   "execution_count": 27,
   "id": "8404ec49",
   "metadata": {},
   "outputs": [
    {
     "name": "stdout",
     "output_type": "stream",
     "text": [
      "True\n"
     ]
    }
   ],
   "source": [
    "#NOT\n",
    "x = 5\n",
    "y = 10\n",
    "\n",
    "result = not (x > y)\n",
    "print(result)  "
   ]
  },
  {
   "cell_type": "markdown",
   "id": "9cc846c3",
   "metadata": {},
   "source": [
    "### Q.4. Explain right shift operator and left shift operator with examples."
   ]
  },
  {
   "cell_type": "markdown",
   "id": "a5e352bd",
   "metadata": {},
   "source": [
    "### Right shift"
   ]
  },
  {
   "cell_type": "markdown",
   "id": "624a5058",
   "metadata": {},
   "source": [
    "The right shift operator (>>) shifts the bits of a number to the right by a specified number of positions."
   ]
  },
  {
   "cell_type": "code",
   "execution_count": 28,
   "id": "1c958bbd",
   "metadata": {},
   "outputs": [
    {
     "name": "stdout",
     "output_type": "stream",
     "text": [
      "2\n"
     ]
    }
   ],
   "source": [
    "#example\n",
    "x = 10\n",
    "shifted = x >> 2  # Shifting 'x' two positions to the right\n",
    "\n",
    "print(shifted) \n"
   ]
  },
  {
   "cell_type": "markdown",
   "id": "6f25b832",
   "metadata": {},
   "source": [
    "In this example, the binary representation of 10 is 1010. Shifting it two positions to the right results in 10, which is the binary representation of 2."
   ]
  },
  {
   "cell_type": "markdown",
   "id": "1000ac3f",
   "metadata": {},
   "source": [
    "### Left shift"
   ]
  },
  {
   "cell_type": "markdown",
   "id": "8aa40c4f",
   "metadata": {},
   "source": [
    "The left shift operator (<<) shifts the bits of a number to the left by a specified number of positions. "
   ]
  },
  {
   "cell_type": "code",
   "execution_count": 29,
   "id": "8eae9d93",
   "metadata": {},
   "outputs": [
    {
     "name": "stdout",
     "output_type": "stream",
     "text": [
      "40\n"
     ]
    }
   ],
   "source": [
    "#example\n",
    "x = 5\n",
    "shifted = x << 3  # Shifting 'x' three positions to the left\n",
    "\n",
    "print(shifted) \n"
   ]
  },
  {
   "cell_type": "markdown",
   "id": "e6faeeb6",
   "metadata": {},
   "source": [
    "In this example, the binary representation of 5 is 101. Shifting it three positions to the left results in 101000, which is the binary representation of 40."
   ]
  },
  {
   "cell_type": "markdown",
   "id": "aecc8600",
   "metadata": {},
   "source": [
    "### Q.5. Create a list containing int type data of length 15. Then write a code to check if 10 ispresent in the list or not."
   ]
  },
  {
   "cell_type": "code",
   "execution_count": 33,
   "id": "76e509cb",
   "metadata": {},
   "outputs": [
    {
     "name": "stdout",
     "output_type": "stream",
     "text": [
      "10 is not present in the list\n"
     ]
    }
   ],
   "source": [
    "l = [1,2,3,4,5,6,7,8,12,3,4,2,21,23,12]\n",
    "if 10 in l:\n",
    "    print('10 is present in the list')\n",
    "else:\n",
    "    print('10 is not present in the list')"
   ]
  },
  {
   "cell_type": "code",
   "execution_count": null,
   "id": "b14dacd0",
   "metadata": {},
   "outputs": [],
   "source": []
  }
 ],
 "metadata": {
  "kernelspec": {
   "display_name": "Python 3 (ipykernel)",
   "language": "python",
   "name": "python3"
  },
  "language_info": {
   "codemirror_mode": {
    "name": "ipython",
    "version": 3
   },
   "file_extension": ".py",
   "mimetype": "text/x-python",
   "name": "python",
   "nbconvert_exporter": "python",
   "pygments_lexer": "ipython3",
   "version": "3.9.13"
  }
 },
 "nbformat": 4,
 "nbformat_minor": 5
}
